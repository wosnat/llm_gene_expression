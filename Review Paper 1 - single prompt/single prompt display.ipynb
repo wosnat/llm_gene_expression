{
 "cells": [
  {
   "cell_type": "markdown",
   "id": "a7fa8a34-9f2a-47da-9b3a-e9c35d456239",
   "metadata": {},
   "source": [
    "This notebook display the Gene DB for Prochlorococcus"
   ]
  },
  {
   "cell_type": "markdown",
   "id": "3d591081-aa05-4298-bb2d-a32a4864e787",
   "metadata": {},
   "source": [
    "# Includes and setup"
   ]
  },
  {
   "cell_type": "code",
   "execution_count": 1,
   "id": "f3b3f646-4d6a-41f2-81f4-47340c2a0f0a",
   "metadata": {},
   "outputs": [],
   "source": [
    "import os\n",
    "import json\n",
    "from dotenv import load_dotenv\n",
    "from openai import OpenAI\n",
    "import anthropic\n",
    "import google.generativeai\n",
    "import gradio as gr\n",
    "from IPython.display import Markdown, display, update_display"
   ]
  },
  {
   "cell_type": "code",
   "execution_count": 2,
   "id": "769dc1a3-4b3c-48c5-8d62-251c482aeeb8",
   "metadata": {},
   "outputs": [],
   "source": [
    "import pandas as pd\n",
    "import numpy as np"
   ]
  },
  {
   "cell_type": "code",
   "execution_count": 3,
   "id": "1073aba5-7c40-4035-8f4e-9454a554ea89",
   "metadata": {},
   "outputs": [],
   "source": [
    "%load_ext autoreload\n",
    "%autoreload 2"
   ]
  },
  {
   "cell_type": "code",
   "execution_count": 4,
   "id": "8d7bc3e7-08d9-46f7-a43a-57b06062b447",
   "metadata": {},
   "outputs": [],
   "source": [
    "from prompts import * \n"
   ]
  },
  {
   "cell_type": "code",
   "execution_count": 5,
   "id": "3df72160-4329-4694-8614-22b21a3396e4",
   "metadata": {},
   "outputs": [
    {
     "name": "stdout",
     "output_type": "stream",
     "text": [
      "OpenAI API Key not set\n",
      "Anthropic API Key not set\n",
      "Google API Key not set\n"
     ]
    }
   ],
   "source": [
    "# Load environment variables in a file called .env\n",
    "# Print the key prefixes to help with any debugging\n",
    "\n",
    "load_dotenv()\n",
    "openai_api_key = os.getenv('OPENAI_API_KEY')\n",
    "anthropic_api_key = os.getenv('ANTHROPIC_API_KEY')\n",
    "google_api_key = os.getenv('GOOGLE_API_KEY')\n",
    "\n",
    "if openai_api_key:\n",
    "    print(f\"OpenAI API Key exists and begins {openai_api_key[:8]}\")\n",
    "else:\n",
    "    print(\"OpenAI API Key not set\")\n",
    "    \n",
    "if anthropic_api_key:\n",
    "    print(f\"Anthropic API Key exists and begins {anthropic_api_key[:7]}\")\n",
    "else:\n",
    "    print(\"Anthropic API Key not set\")\n",
    "\n",
    "if google_api_key:\n",
    "    print(f\"Google API Key exists and begins {google_api_key[:8]}\")\n",
    "else:\n",
    "    print(\"Google API Key not set\")"
   ]
  },
  {
   "cell_type": "code",
   "execution_count": 6,
   "id": "6b49e173-56e7-4c12-a18c-caca28566363",
   "metadata": {},
   "outputs": [],
   "source": [
    "anthropic_client = anthropic.Anthropic(\n",
    "    # defaults to os.environ.get(\"ANTHROPIC_API_KEY\")\n",
    "    #api_key=\"my_api_key\",\n",
    ")\n",
    "MODEL = \"claude-3-5-sonnet-20241022\"\n",
    "max_tokens=4096\n",
    "temperature=0"
   ]
  },
  {
   "cell_type": "code",
   "execution_count": null,
   "id": "26e05753-45e2-4b09-bbff-7c70c4d4f964",
   "metadata": {},
   "outputs": [],
   "source": []
  },
  {
   "cell_type": "markdown",
   "id": "71f3f391-0748-4c8a-a2ca-cd7008b18697",
   "metadata": {},
   "source": [
    "# Load list of MED4 genes"
   ]
  },
  {
   "cell_type": "code",
   "execution_count": 7,
   "id": "5ce4446d-5503-4bdb-bf33-2b31e304c7af",
   "metadata": {},
   "outputs": [],
   "source": [
    "med4_genome_dpath = '../genomes/MED4'\n",
    "#os.listdir(med4_genome_dpath)"
   ]
  },
  {
   "cell_type": "code",
   "execution_count": 9,
   "id": "4542d2ac-801f-4508-bcd0-eed60850690e",
   "metadata": {},
   "outputs": [
    {
     "data": {
      "text/html": [
       "<div>\n",
       "<style scoped>\n",
       "    .dataframe tbody tr th:only-of-type {\n",
       "        vertical-align: middle;\n",
       "    }\n",
       "\n",
       "    .dataframe tbody tr th {\n",
       "        vertical-align: top;\n",
       "    }\n",
       "\n",
       "    .dataframe thead th {\n",
       "        text-align: right;\n",
       "    }\n",
       "</style>\n",
       "<table border=\"1\" class=\"dataframe\">\n",
       "  <thead>\n",
       "    <tr style=\"text-align: right;\">\n",
       "      <th></th>\n",
       "      <th>gene_name</th>\n",
       "      <th>gene</th>\n",
       "      <th>locus_tag</th>\n",
       "      <th>product</th>\n",
       "      <th>protein_id</th>\n",
       "    </tr>\n",
       "  </thead>\n",
       "  <tbody>\n",
       "    <tr>\n",
       "      <th>0</th>\n",
       "      <td>dnaN , TX50_RS00020</td>\n",
       "      <td>dnaN</td>\n",
       "      <td>TX50_RS00020</td>\n",
       "      <td>DNA polymerase III subunit beta</td>\n",
       "      <td>WP_011131639.1</td>\n",
       "    </tr>\n",
       "    <tr>\n",
       "      <th>1</th>\n",
       "      <td>purL , TX50_RS00030</td>\n",
       "      <td>purL</td>\n",
       "      <td>TX50_RS00030</td>\n",
       "      <td>phosphoribosylformylglycinamidine synthase sub...</td>\n",
       "      <td>WP_011131641.1</td>\n",
       "    </tr>\n",
       "    <tr>\n",
       "      <th>2</th>\n",
       "      <td>purF , TX50_RS00035</td>\n",
       "      <td>purF</td>\n",
       "      <td>TX50_RS00035</td>\n",
       "      <td>amidophosphoribosyltransferase</td>\n",
       "      <td>WP_011131642.1</td>\n",
       "    </tr>\n",
       "    <tr>\n",
       "      <th>3</th>\n",
       "      <td>queG , TX50_RS00050</td>\n",
       "      <td>queG</td>\n",
       "      <td>TX50_RS00050</td>\n",
       "      <td>tRNA epoxyqueuosine(34) reductase QueG</td>\n",
       "      <td>WP_011131645.1</td>\n",
       "    </tr>\n",
       "    <tr>\n",
       "      <th>4</th>\n",
       "      <td>nusB , TX50_RS00060</td>\n",
       "      <td>nusB</td>\n",
       "      <td>TX50_RS00060</td>\n",
       "      <td>transcription antitermination factor NusB</td>\n",
       "      <td>WP_036930720.1</td>\n",
       "    </tr>\n",
       "    <tr>\n",
       "      <th>...</th>\n",
       "      <td>...</td>\n",
       "      <td>...</td>\n",
       "      <td>...</td>\n",
       "      <td>...</td>\n",
       "      <td>...</td>\n",
       "    </tr>\n",
       "    <tr>\n",
       "      <th>498</th>\n",
       "      <td>dnaK , TX50_RS09095</td>\n",
       "      <td>dnaK</td>\n",
       "      <td>TX50_RS09095</td>\n",
       "      <td>molecular chaperone DnaK</td>\n",
       "      <td>WP_011133331.1</td>\n",
       "    </tr>\n",
       "    <tr>\n",
       "      <th>499</th>\n",
       "      <td>rpsF , TX50_RS09105</td>\n",
       "      <td>rpsF</td>\n",
       "      <td>TX50_RS09105</td>\n",
       "      <td>30S ribosomal protein S6</td>\n",
       "      <td>WP_011133333.1</td>\n",
       "    </tr>\n",
       "    <tr>\n",
       "      <th>500</th>\n",
       "      <td>mraY , TX50_RS09125</td>\n",
       "      <td>mraY</td>\n",
       "      <td>TX50_RS09125</td>\n",
       "      <td>phospho-N-acetylmuramoyl-pentapeptide-transferase</td>\n",
       "      <td>WP_036930713.1</td>\n",
       "    </tr>\n",
       "    <tr>\n",
       "      <th>501</th>\n",
       "      <td>uvrA , TX50_RS09140</td>\n",
       "      <td>uvrA</td>\n",
       "      <td>TX50_RS09140</td>\n",
       "      <td>excinuclease ABC subunit UvrA</td>\n",
       "      <td>WP_011133339.1</td>\n",
       "    </tr>\n",
       "    <tr>\n",
       "      <th>502</th>\n",
       "      <td>thrC , TX50_RS09160</td>\n",
       "      <td>thrC</td>\n",
       "      <td>TX50_RS09160</td>\n",
       "      <td>threonine synthase</td>\n",
       "      <td>WP_011133343.1</td>\n",
       "    </tr>\n",
       "  </tbody>\n",
       "</table>\n",
       "<p>503 rows × 5 columns</p>\n",
       "</div>"
      ],
      "text/plain": [
       "               gene_name  gene     locus_tag  \\\n",
       "0    dnaN , TX50_RS00020  dnaN  TX50_RS00020   \n",
       "1    purL , TX50_RS00030  purL  TX50_RS00030   \n",
       "2    purF , TX50_RS00035  purF  TX50_RS00035   \n",
       "3    queG , TX50_RS00050  queG  TX50_RS00050   \n",
       "4    nusB , TX50_RS00060  nusB  TX50_RS00060   \n",
       "..                   ...   ...           ...   \n",
       "498  dnaK , TX50_RS09095  dnaK  TX50_RS09095   \n",
       "499  rpsF , TX50_RS09105  rpsF  TX50_RS09105   \n",
       "500  mraY , TX50_RS09125  mraY  TX50_RS09125   \n",
       "501  uvrA , TX50_RS09140  uvrA  TX50_RS09140   \n",
       "502  thrC , TX50_RS09160  thrC  TX50_RS09160   \n",
       "\n",
       "                                               product      protein_id  \n",
       "0                      DNA polymerase III subunit beta  WP_011131639.1  \n",
       "1    phosphoribosylformylglycinamidine synthase sub...  WP_011131641.1  \n",
       "2                       amidophosphoribosyltransferase  WP_011131642.1  \n",
       "3               tRNA epoxyqueuosine(34) reductase QueG  WP_011131645.1  \n",
       "4            transcription antitermination factor NusB  WP_036930720.1  \n",
       "..                                                 ...             ...  \n",
       "498                           molecular chaperone DnaK  WP_011133331.1  \n",
       "499                           30S ribosomal protein S6  WP_011133333.1  \n",
       "500  phospho-N-acetylmuramoyl-pentapeptide-transferase  WP_036930713.1  \n",
       "501                      excinuclease ABC subunit UvrA  WP_011133339.1  \n",
       "502                                 threonine synthase  WP_011133343.1  \n",
       "\n",
       "[503 rows x 5 columns]"
      ]
     },
     "execution_count": 9,
     "metadata": {},
     "output_type": "execute_result"
    }
   ],
   "source": [
    "gff_named_df = pd.read_csv(os.path.join(med4_genome_dpath, 'MED4_named_genes_NCBI.csv'))\n",
    "gff_named_df"
   ]
  },
  {
   "cell_type": "markdown",
   "id": "82d7aa14-5090-4c29-8982-934cf4ed3b29",
   "metadata": {},
   "source": [
    "# Load anthropic batch results"
   ]
  },
  {
   "cell_type": "code",
   "execution_count": 17,
   "id": "a8786e1f-6ada-49c9-bb0c-444ad7d55f07",
   "metadata": {},
   "outputs": [],
   "source": [
    "batch_result_fpath = os.path.join('batch results', 'anthropic_batch_single_prompt_26012025_results.jsonl')"
   ]
  },
  {
   "cell_type": "code",
   "execution_count": 16,
   "id": "7e0c679b-ceb3-45c8-aacd-4e44b0af9c3d",
   "metadata": {},
   "outputs": [],
   "source": [
    "import jsonlines"
   ]
  },
  {
   "cell_type": "code",
   "execution_count": 18,
   "id": "4a3ed77c-55e5-43dd-8e80-7bc02123a482",
   "metadata": {},
   "outputs": [],
   "source": [
    "with jsonlines.open(batch_result_fpath) as reader:\n",
    "    batch_results_jsonl = [obj for obj in reader]"
   ]
  },
  {
   "cell_type": "code",
   "execution_count": 39,
   "id": "6d85a04c-97cc-42e1-9a2d-4105bec190b1",
   "metadata": {},
   "outputs": [],
   "source": [
    "def _get_gene_name_from_custom_id(id):\n",
    "    '''\n",
    "         extract and return the gene_name from the custom id\n",
    "         example : 'batch-id-dnaN--TX50_RS00020' --> dnaN, TX50_RS00020\n",
    "    '''\n",
    "    return id.replace('batch-id-', '').replace('--', ' , ')\n",
    "    "
   ]
  },
  {
   "cell_type": "code",
   "execution_count": 24,
   "id": "59c18ad3-4e3a-4972-8dd8-96f36a80db37",
   "metadata": {},
   "outputs": [],
   "source": [
    "message_status = [m['result']['type'] for m in batch_results_jsonl]\n",
    "#message_status\n"
   ]
  },
  {
   "cell_type": "code",
   "execution_count": 25,
   "id": "a76e5185-9699-4ff9-a065-b60c40c32e96",
   "metadata": {},
   "outputs": [
    {
     "data": {
      "text/plain": [
       "Counter({'succeeded': 503})"
      ]
     },
     "execution_count": 25,
     "metadata": {},
     "output_type": "execute_result"
    }
   ],
   "source": [
    "# check the status of the batch jobs\n",
    "from collections import Counter\n",
    "Counter(message_status)"
   ]
  },
  {
   "cell_type": "code",
   "execution_count": 40,
   "id": "28f3295c-cb60-4768-86f6-9318c6159f3e",
   "metadata": {},
   "outputs": [
    {
     "data": {
      "text/html": [
       "<div>\n",
       "<style scoped>\n",
       "    .dataframe tbody tr th:only-of-type {\n",
       "        vertical-align: middle;\n",
       "    }\n",
       "\n",
       "    .dataframe tbody tr th {\n",
       "        vertical-align: top;\n",
       "    }\n",
       "\n",
       "    .dataframe thead th {\n",
       "        text-align: right;\n",
       "    }\n",
       "</style>\n",
       "<table border=\"1\" class=\"dataframe\">\n",
       "  <thead>\n",
       "    <tr style=\"text-align: right;\">\n",
       "      <th></th>\n",
       "      <th>gene_name</th>\n",
       "      <th>gene</th>\n",
       "      <th>locus_tag</th>\n",
       "      <th>product</th>\n",
       "      <th>protein_id</th>\n",
       "    </tr>\n",
       "  </thead>\n",
       "  <tbody>\n",
       "    <tr>\n",
       "      <th>0</th>\n",
       "      <td>dnaN , TX50_RS00020</td>\n",
       "      <td>dnaN</td>\n",
       "      <td>TX50_RS00020</td>\n",
       "      <td>DNA polymerase III subunit beta</td>\n",
       "      <td>WP_011131639.1</td>\n",
       "    </tr>\n",
       "  </tbody>\n",
       "</table>\n",
       "</div>"
      ],
      "text/plain": [
       "             gene_name  gene     locus_tag                          product  \\\n",
       "0  dnaN , TX50_RS00020  dnaN  TX50_RS00020  DNA polymerase III subunit beta   \n",
       "\n",
       "       protein_id  \n",
       "0  WP_011131639.1  "
      ]
     },
     "execution_count": 40,
     "metadata": {},
     "output_type": "execute_result"
    }
   ],
   "source": [
    "gff_named_df.loc[gff_named_df.gene_name.isin([_get_gene_name_from_custom_id(batch_results_jsonl[0]['custom_id'])])]"
   ]
  },
  {
   "cell_type": "code",
   "execution_count": 41,
   "id": "aac049ee-ca3f-4b8a-9452-419b5404b49e",
   "metadata": {},
   "outputs": [],
   "source": [
    "batch_result_dict = {\n",
    "    _get_gene_name_from_custom_id(m['custom_id']) :  m['result']['message']['content'][0]['text']\n",
    "    for m in batch_results_jsonl            \n",
    "}"
   ]
  },
  {
   "cell_type": "code",
   "execution_count": null,
   "id": "bb18fe70-b830-421b-b6d8-9649d38680f1",
   "metadata": {},
   "outputs": [],
   "source": []
  },
  {
   "cell_type": "code",
   "execution_count": 26,
   "id": "6c497fae-ad5f-45bf-a273-b8fdfe6a45f1",
   "metadata": {},
   "outputs": [
    {
     "data": {
      "text/plain": [
       "dict_keys(['custom_id', 'result'])"
      ]
     },
     "execution_count": 26,
     "metadata": {},
     "output_type": "execute_result"
    }
   ],
   "source": [
    "batch_results_jsonl[0].keys()"
   ]
  },
  {
   "cell_type": "code",
   "execution_count": 35,
   "id": "f76762ed-b964-4795-98dc-68839a092357",
   "metadata": {},
   "outputs": [
    {
     "data": {
      "text/plain": [
       "'batch-id-dnaN--TX50_RS00020'"
      ]
     },
     "execution_count": 35,
     "metadata": {},
     "output_type": "execute_result"
    }
   ],
   "source": [
    "batch_results_jsonl[0]['custom_id']"
   ]
  },
  {
   "cell_type": "code",
   "execution_count": 43,
   "id": "c1f679a4-d139-4338-9400-3f0c86c3c69d",
   "metadata": {},
   "outputs": [],
   "source": [
    "# print(batch_results_jsonl[0]['result']['message']['content'][0]['text'])"
   ]
  },
  {
   "cell_type": "markdown",
   "id": "4feb0d9f-7a1b-4efe-b7ff-522244a3c7c8",
   "metadata": {},
   "source": [
    "# Parse the replies into multiple elements"
   ]
  },
  {
   "cell_type": "markdown",
   "id": "8010db99-9803-4e2b-94c4-d4107022bb80",
   "metadata": {},
   "source": [
    "## example"
   ]
  },
  {
   "cell_type": "code",
   "execution_count": 62,
   "id": "a460dbac-066e-4cc3-b476-e68831903742",
   "metadata": {},
   "outputs": [],
   "source": [
    "gene = 'dnaN , TX50_RS00020'"
   ]
  },
  {
   "cell_type": "code",
   "execution_count": 66,
   "id": "af78b712-bc5a-4644-8889-563a86383bb4",
   "metadata": {},
   "outputs": [],
   "source": [
    "text = '<literature_review>\\n' + batch_result_dict[gene]"
   ]
  },
  {
   "cell_type": "code",
   "execution_count": 83,
   "id": "4c8e2f54-120e-4f41-961a-fbd0df19e201",
   "metadata": {},
   "outputs": [],
   "source": [
    "def parse_claude_message(message):\n",
    "    tags = {}\n",
    "    for tag, content in re.findall(r'<(\\w+)>(.*?)</\\1>', message, re.DOTALL):\n",
    "        tags[tag] = content.strip()\n",
    "    return tags"
   ]
  },
  {
   "cell_type": "code",
   "execution_count": 90,
   "id": "7b94d360-7248-47b1-a832-b55d1caae4ed",
   "metadata": {},
   "outputs": [
    {
     "data": {
      "text/plain": [
       "dict_keys(['literature_review', 'database_entry'])"
      ]
     },
     "execution_count": 90,
     "metadata": {},
     "output_type": "execute_result"
    }
   ],
   "source": [
    "parsed_text = parse_claude_message(text)\n",
    "parsed_text.keys()"
   ]
  },
  {
   "cell_type": "code",
   "execution_count": 94,
   "id": "302bd2ce-7e4f-440b-81ec-895c2b66ed93",
   "metadata": {},
   "outputs": [
    {
     "data": {
      "text/plain": [
       "'<literature_review>\\n\\n\\n</literature_review>\\n\\n<database_entry>\\n  \\n</database_entry>'"
      ]
     },
     "execution_count": 94,
     "metadata": {},
     "output_type": "execute_result"
    }
   ],
   "source": [
    "left_text = text\n",
    "for i in parsed_text: \n",
    "    left_text = left_text.replace(parsed_text[i], '')\n",
    "left_text\n",
    "    "
   ]
  },
  {
   "cell_type": "code",
   "execution_count": 96,
   "id": "e06ae0f6-65de-41df-b48d-20dd5f79095d",
   "metadata": {},
   "outputs": [],
   "source": [
    "database_entry_parse = parse_claude_message(parsed_text['database_entry'])"
   ]
  },
  {
   "cell_type": "code",
   "execution_count": 97,
   "id": "765bc3e0-98e8-41db-a881-594c4b1654bc",
   "metadata": {},
   "outputs": [
    {
     "data": {
      "text/plain": [
       "'<primary_function>\\n    \\n  </primary_function>\\n\\n  <physiological_contribution>\\n    \\n  </physiological_contribution>\\n\\n  <stress_responses>\\n    \\n  </stress_responses>\\n\\n  <uptake_exudation>\\n    \\n  </uptake_exudation>\\n\\n  <phylogenetic_persistence>\\n    \\n  </phylogenetic_persistence>\\n\\n  <coculture_role>\\n    \\n  </coculture_role>\\n\\n  <references>\\n    \\n  </references>'"
      ]
     },
     "execution_count": 97,
     "metadata": {},
     "output_type": "execute_result"
    }
   ],
   "source": [
    "left_text = parsed_text['database_entry']\n",
    "for i in database_entry_parse: \n",
    "    left_text = left_text.replace(database_entry_parse[i], '')\n",
    "left_text\n",
    "    "
   ]
  },
  {
   "cell_type": "code",
   "execution_count": 63,
   "id": "19bd3504-8278-4a60-83be-212663e266d9",
   "metadata": {},
   "outputs": [
    {
     "name": "stdout",
     "output_type": "stream",
     "text": [
      "\n",
      "1. Key Search Terms and Databases:\n",
      "- Primary databases: PubMed, Web of Science, NCBI Gene, UniProt\n",
      "- Search terms: \"dnaN Prochlorococcus\", \"DNA polymerase III beta subunit cyanobacteria\", \"sliding clamp Prochlorococcus\", \"WP_011131639.1\", \"DNA replication Prochlorococcus\"\n",
      "\n",
      "2. Literature Overview:\n",
      "- ~15 directly relevant papers\n",
      "- Date range: 1998-2023\n",
      "- Main focus: DNA replication mechanisms in cyanobacteria, sliding clamp function in prokaryotes\n",
      "\n",
      "3. Key Sources:\n",
      "\n",
      "a) [Robinson et al., 2013] \"Structure and mechanism of the β-sliding clamp from E. coli\"\n",
      "- Detailed structural analysis of the β-sliding clamp\n",
      "- Established conserved mechanism across prokaryotes\n",
      "\n",
      "b) [Johnson & O'Donnell, 2005] \"Cellular DNA Replicases\"\n",
      "- Comprehensive review of DNA polymerase III function\n",
      "- Describes essential role of β-subunit in processivity\n",
      "\n",
      "c) [Partensky et al., 1999] \"Prochlorococcus: Advantages and Limits of Minimalism\"\n",
      "- Overview of Prochlorococcus genome streamlining\n",
      "- Discusses conservation of essential DNA replication machinery\n",
      "\n",
      "4. Challenges:\n",
      "- Limited direct studies on dnaN in Prochlorococcus\n",
      "- Most information inferred from other bacterial systems\n",
      "- Few studies on regulation under different conditions\n",
      "\n",
      "5. Research Gaps:\n",
      "- Limited information on strain-specific variations\n",
      "- Lack of data on expression changes in coculture\n",
      "- Unknown stress response patterns\n",
      "\n",
      "6. Initial Observations:\n",
      "- Highly conserved essential gene\n",
      "- Critical for DNA replication fidelity\n",
      "- Part of core genome maintained despite genome streamlining\n",
      "\n",
      "7. Key Themes:\n",
      "- Essential for cell division\n",
      "- Highly conserved structure and function\n",
      "- Part of minimal genome requirements\n",
      "\n",
      "8. Potential Implications:\n",
      "- May influence growth rate regulation\n",
      "- Could be involved in stress response\n",
      "- Potential target for studying cell cycle control\n",
      "</literature_review>\n",
      "\n",
      "<database_entry>\n",
      "  <primary_function>\n",
      "    The dnaN gene encodes the β-sliding clamp subunit of DNA polymerase III, essential for processive DNA replication in Prochlorococcus. It forms a ring-shaped homodimer that encircles DNA and tethers the polymerase to the template, enabling efficient and accurate DNA synthesis [Johnson & O'Donnell, 2005].\n",
      "    <conservation>Highly conserved across all prokaryotes, with maintained structure and function across all known Prochlorococcus strains.</conservation>\n",
      "  </primary_function>\n",
      "\n",
      "  <physiological_contribution>\n",
      "    Functions as a central coordinator of DNA replication and repair processes, essential for cell division and genome maintenance. The β-clamp also serves as a platform for other proteins involved in DNA metabolism [Robinson et al., 2013].\n",
      "    <conservation>Core function is universally conserved across prokaryotes, including all Prochlorococcus ecotypes.</conservation>\n",
      "  </physiological_contribution>\n",
      "\n",
      "  <stress_responses>\n",
      "    <response1>\n",
      "      Limited direct data available for Prochlorococcus-specific stress responses.\n",
      "      <conservation>Information not available.</conservation>\n",
      "    </response1>\n",
      "    <response2>\n",
      "      May be involved in DNA damage response pathways based on studies in other bacteria.\n",
      "      <conservation>Likely conserved but requires experimental validation.</conservation>\n",
      "    </response2>\n",
      "  </stress_responses>\n",
      "\n",
      "  <uptake_exudation>\n",
      "    <uptake>\n",
      "      No direct evidence for involvement in uptake processes.\n",
      "      <conservation>Not applicable.</conservation>\n",
      "    </uptake>\n",
      "    <exudation>\n",
      "      No known role in exudation processes.\n",
      "      <conservation>Not applicable.</conservation>\n",
      "    </exudation>\n",
      "  </uptake_exudation>\n",
      "\n",
      "  <phylogenetic_persistence>\n",
      "    The dnaN gene is present in all sequenced Prochlorococcus strains and shows high sequence conservation. It represents part of the core genome maintained despite extensive genome streamlining in Prochlorococcus [Partensky et al., 1999].\n",
      "  </phylogenetic_persistence>\n",
      "\n",
      "  <coculture_role>\n",
      "    No specific studies available on dnaN expression or function in coculture conditions.\n",
      "    <conservation>Information not available.</conservation>\n",
      "  </coculture_role>\n",
      "\n",
      "  <references>\n",
      "    <ref1>Johnson A, O'Donnell M. (2005). Cellular DNA Replicases: Components and Dynamics at the Replication Fork. Annual Review of Biochemistry, 74:283-315.</ref1>\n",
      "    <ref2>Robinson A, et al. (2013). Structure and mechanism of the β-sliding clamp from E. coli. Nucleic Acids Research, 41(6):3812-3824.</ref2>\n",
      "    <ref3>Partensky F, et al. (1999). Prochlorococcus: Advantages and Limits of Minimalism. Annual Review of Marine Science, 1:227-252.</ref3>\n",
      "  </references>\n",
      "</database_entry>\n"
     ]
    }
   ],
   "source": [
    "print(batch_result_dict[gene])\n"
   ]
  },
  {
   "cell_type": "markdown",
   "id": "5340d290-5e0c-49e9-b2fc-e1147c0de301",
   "metadata": {},
   "source": [
    "# Build gradio app"
   ]
  },
  {
   "cell_type": "code",
   "execution_count": 58,
   "id": "4213b4a3-0982-4cdd-9db4-91583d9f9a1e",
   "metadata": {},
   "outputs": [],
   "source": [
    "def get_gene_db_results(gene_name):\n",
    "    return batch_result_dict[gene_name], batch_result_dict[gene_name]"
   ]
  },
  {
   "cell_type": "code",
   "execution_count": 64,
   "id": "0e1975e5-a7bd-49e6-8058-166179b3d259",
   "metadata": {},
   "outputs": [
    {
     "name": "stdout",
     "output_type": "stream",
     "text": [
      "* Running on local URL:  http://127.0.0.1:7873\n",
      "\n",
      "To create a public link, set `share=True` in `launch()`.\n"
     ]
    },
    {
     "data": {
      "text/html": [
       "<div><iframe src=\"http://127.0.0.1:7873/\" width=\"100%\" height=\"500\" allow=\"autoplay; camera; microphone; clipboard-read; clipboard-write;\" frameborder=\"0\" allowfullscreen></iframe></div>"
      ],
      "text/plain": [
       "<IPython.core.display.HTML object>"
      ]
     },
     "metadata": {},
     "output_type": "display_data"
    },
    {
     "data": {
      "text/plain": []
     },
     "execution_count": 64,
     "metadata": {},
     "output_type": "execute_result"
    }
   ],
   "source": [
    "import gradio as gr\n",
    "\n",
    "with gr.Blocks() as demo:\n",
    "    with gr.Row():\n",
    "        genename = gr.Textbox(label=\"Gene Name\")\n",
    "        submit_btn = gr.Button(\"Submit\")\n",
    "    with gr.Row(equal_height=True):        \n",
    "        output1 = gr.Textbox(label=\"Output Box\")\n",
    "        output2 = gr.Textbox(label=\"Output Box\")\n",
    "    submit_btn.click(fn=get_gene_db_results, inputs=genename, outputs=[output1,output2], api_name=\"Gene DB\")\n",
    "\n",
    "demo.launch()\n",
    "\n",
    "# demo = gr.Interface(\n",
    "#     fn=get_gene_db_results,\n",
    "#     inputs=[\"text\",],\n",
    "#     outputs=[\"text\"],\n",
    "#     examples=list(batch_result_dict.keys()),\n",
    "#     examples_per_page=30,\n",
    "#     title=\"*Prochlorococcus* Gene Database\",\n",
    "#     flagging_mode='never',\n",
    "#     #description=\"Here's a sample toy calculator.\",\n",
    "# )\n",
    "\n",
    "# demo.launch()\n"
   ]
  },
  {
   "cell_type": "code",
   "execution_count": null,
   "id": "5d5d6f5d-b2ca-4d67-a5b8-a909ace58369",
   "metadata": {},
   "outputs": [],
   "source": [
    "import gradio as gr\n",
    "\n",
    "with gr.Blocks() as demo:\n",
    "    with gr.Row():\n",
    "        with gr.Column():\n",
    "            num_1 = gr.Number(value=4)\n",
    "            operation = gr.Radio([\"add\", \"subtract\", \"multiply\", \"divide\"])\n",
    "            num_2 = gr.Number(value=0)\n",
    "            submit_btn = gr.Button(value=\"Calculate\")\n",
    "        with gr.Column():\n",
    "            result = gr.Number()\n",
    "\n",
    "    submit_btn.click(\n",
    "        calculator, inputs=[num_1, operation, num_2], outputs=[result], api_name=False\n",
    "    )\n",
    "    examples = gr.Examples(\n",
    "        examples=[\n",
    "            [5, \"add\", 3],\n",
    "            [4, \"divide\", 2],\n",
    "            [-4, \"multiply\", 2.5],\n",
    "            [0, \"subtract\", 1.2],\n",
    "        ],\n",
    "        inputs=[num_1, operation, num_2],\n",
    "    )\n",
    "\n",
    "if __name__ == \"__main__\":\n",
    "    demo.launch(show_api=False)"
   ]
  }
 ],
 "metadata": {
  "kernelspec": {
   "display_name": "Python 3 (ipykernel)",
   "language": "python",
   "name": "python3"
  },
  "language_info": {
   "codemirror_mode": {
    "name": "ipython",
    "version": 3
   },
   "file_extension": ".py",
   "mimetype": "text/x-python",
   "name": "python",
   "nbconvert_exporter": "python",
   "pygments_lexer": "ipython3",
   "version": "3.11.11"
  }
 },
 "nbformat": 4,
 "nbformat_minor": 5
}
