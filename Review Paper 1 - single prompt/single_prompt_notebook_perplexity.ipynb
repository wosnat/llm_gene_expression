{
 "cells": [
  {
   "cell_type": "markdown",
   "id": "df91b6de-bc1e-45d4-ae9c-ede6c3cdc030",
   "metadata": {},
   "source": [
    "# House keeping and setups"
   ]
  },
  {
   "cell_type": "code",
   "execution_count": 1,
   "id": "da2be0f3-9a70-4895-b181-559a9027cf6f",
   "metadata": {},
   "outputs": [],
   "source": [
    "import os\n",
    "import json\n",
    "from dotenv import load_dotenv\n",
    "from openai import OpenAI\n",
    "import anthropic\n",
    "import google.generativeai\n",
    "import gradio as gr\n",
    "from IPython.display import Markdown, display, update_display"
   ]
  },
  {
   "cell_type": "code",
   "execution_count": 2,
   "id": "ca193632-0d55-4863-afb3-b41c1232e161",
   "metadata": {},
   "outputs": [],
   "source": [
    "import pandas as pd\n",
    "import numpy as np"
   ]
  },
  {
   "cell_type": "code",
   "execution_count": 3,
   "id": "e775b4b8-c549-425b-893f-e4102ff69ff6",
   "metadata": {},
   "outputs": [],
   "source": [
    "%load_ext autoreload\n",
    "%autoreload 2"
   ]
  },
  {
   "cell_type": "code",
   "execution_count": 4,
   "id": "38390c60-4be1-46d5-8068-67fdec5adc12",
   "metadata": {},
   "outputs": [],
   "source": [
    "from prompts import * \n",
    "from prompts import * "
   ]
  },
  {
   "cell_type": "code",
   "execution_count": 7,
   "id": "19b8891e-c77f-4c60-948c-e282766c77aa",
   "metadata": {},
   "outputs": [
    {
     "name": "stdout",
     "output_type": "stream",
     "text": [
      "OpenAI API Key exists and begins sk-proj-\n",
      "Anthropic API Key exists and begins sk-ant-\n",
      "Google API Key exists and begins AIzaSyCF\n",
      "Perplexity API Key exists and begins pplx-H\n"
     ]
    }
   ],
   "source": [
    "# Load environment variables in a file called .env\n",
    "# Print the key prefixes to help with any debugging\n",
    "\n",
    "load_dotenv()\n",
    "openai_api_key = os.getenv('OPENAI_API_KEY')\n",
    "anthropic_api_key = os.getenv('ANTHROPIC_API_KEY')\n",
    "google_api_key = os.getenv('GOOGLE_API_KEY')\n",
    "perplexity_api_key = os.getenv('PERPLEXITY_API_KEY')\n",
    "\n",
    "if openai_api_key:\n",
    "    print(f\"OpenAI API Key exists and begins {openai_api_key[:8]}\")\n",
    "else:\n",
    "    print(\"OpenAI API Key not set\")\n",
    "    \n",
    "if anthropic_api_key:\n",
    "    print(f\"Anthropic API Key exists and begins {anthropic_api_key[:7]}\")\n",
    "else:\n",
    "    print(\"Anthropic API Key not set\")\n",
    "\n",
    "if google_api_key:\n",
    "    print(f\"Google API Key exists and begins {google_api_key[:8]}\")\n",
    "else:\n",
    "    print(\"Google API Key not set\")\n",
    "\n",
    "\n",
    "if perplexity_api_key:\n",
    "    print(f\"Perplexity API Key exists and begins {perplexity_api_key[:6]}\")\n",
    "else:\n",
    "    print(\"Perplexity API Key not set\")"
   ]
  },
  {
   "cell_type": "markdown",
   "id": "6a34d454-7288-40eb-b351-968a44a1cbbe",
   "metadata": {},
   "source": [
    "|Model\t              |Context Length |\n",
    "|---------------------|---------------|\n",
    "|sonar-reasoning-pro  |\t127k          |\n",
    "|sonar-reasoning\t  | 127k          |\n",
    "|sonar-pro\t          |200k\t          |\n",
    "|sonar\t              |127k\t          |\n"
   ]
  },
  {
   "cell_type": "code",
   "execution_count": 9,
   "id": "1b61831d-ec52-407c-89e3-e76cf8c82dea",
   "metadata": {},
   "outputs": [
    {
     "name": "stdout",
     "output_type": "stream",
     "text": [
      "ChatCompletion(id='9ad416b0-94c7-4370-887c-f0aa70e1e646', choices=[Choice(finish_reason='stop', index=0, logprobs=None, message=ChatCompletionMessage(content=\"Hello I'm happy to help you explore one of the most fascinating questions in astronomy: how many stars are in the universe?\\n\\nEstimating the number of stars in the universe is a complex task, as it involves counting not just the stars we can see but also those that are too distant or too faint to be detected. Here's a breakdown of the current understanding:\\n\\n1. **Number of Stars in the Milky Way**: Our home galaxy, the Milky Way, is estimated to contain between 100 billion and 400 billion stars, depending on the source and method of estimation[1][4][5].\\n\\n2. **Number of Galaxies**: The observable universe is thought to contain approximately 2 trillion galaxies, although this number can vary based on the sensitivity of telescopes and observational methods[2][3][5].\\n\\n3. **Total Number of Stars in the Universe**: Estimates for the total number of stars in the observable universe vary widely. Some sources suggest there could be around 70 billion trillion (7 x 10^22) stars[3], while others propose a figure as high as 200 billion trillion stars[2]. However, these estimates are subject to significant uncertainty due to the vastness and complexity of the universe.\\n\\n4. **Observable vs. Total Universe**: It's important to distinguish between the observable universe (the part we can see) and the universe as a whole. The observable universe is limited by how far light can travel in the time since the Big Bang, meaning there could be many more stars beyond what we can observe[3][4].\\n\\nIn summary, while we can't give an exact number, the estimates range from tens to hundreds of billion trillion stars in the observable universe. As technology improves and new observations are made, these estimates will likely be refined.\\n\\nDo you have any specific aspects of this topic you'd like to explore further?\", refusal=None, role='assistant', audio=None, function_call=None, tool_calls=None), delta={'role': 'assistant', 'content': ''})], created=1739083469, model='sonar', object='chat.completion', service_tier=None, system_fingerprint=None, usage=CompletionUsage(completion_tokens=378, prompt_tokens=31, total_tokens=409, completion_tokens_details=None, prompt_tokens_details=None), citations=['https://www.esa.int/Science_Exploration/Space_Science/Herschel/How_many_stars_are_there_in_the_Universe', 'https://www.littlepassports.com/blog/space/how-many-stars-are-in-the-universe/', 'https://skyandtelescope.org/astronomy-resources/how-many-stars-are-there/', 'https://bigthink.com/starts-with-a-bang/overestimated-stars-in-universe/', 'https://www.space.com/26078-how-many-stars-are-there.html'])\n"
     ]
    }
   ],
   "source": [
    "from openai import OpenAI\n",
    "MODEL = 'sonar'\n",
    "\n",
    "messages = [\n",
    "    {\n",
    "        \"role\": \"system\",\n",
    "        \"content\": (\n",
    "            \"You are an artificial intelligence assistant and you need to \"\n",
    "            \"engage in a helpful, detailed, polite conversation with a user.\"\n",
    "        ),\n",
    "    },\n",
    "    {   \n",
    "        \"role\": \"user\",\n",
    "        \"content\": (\n",
    "            \"How many stars are in the universe?\"\n",
    "        ),\n",
    "    },\n",
    "]\n",
    "\n",
    "client = OpenAI(api_key=perplexity_api_key, base_url=\"https://api.perplexity.ai\")\n",
    "\n",
    "# chat completion without streaming\n",
    "response = client.chat.completions.create(\n",
    "    model=MODEL,\n",
    "    messages=messages,\n",
    ")\n",
    "print(response)\n",
    "\n",
    "# # chat completion with streaming\n",
    "# response_stream = client.chat.completions.create(\n",
    "#     model=\"sonar-pro\",\n",
    "#     messages=messages,\n",
    "#     stream=True,\n",
    "# )\n",
    "# for response in response_stream:\n",
    "#     print(response)\n"
   ]
  },
  {
   "cell_type": "code",
   "execution_count": 10,
   "id": "de9d8387-c19f-4d71-be4d-15e75fcc70a8",
   "metadata": {},
   "outputs": [
    {
     "data": {
      "text/plain": [
       "ChatCompletion(id='9ad416b0-94c7-4370-887c-f0aa70e1e646', choices=[Choice(finish_reason='stop', index=0, logprobs=None, message=ChatCompletionMessage(content=\"Hello I'm happy to help you explore one of the most fascinating questions in astronomy: how many stars are in the universe?\\n\\nEstimating the number of stars in the universe is a complex task, as it involves counting not just the stars we can see but also those that are too distant or too faint to be detected. Here's a breakdown of the current understanding:\\n\\n1. **Number of Stars in the Milky Way**: Our home galaxy, the Milky Way, is estimated to contain between 100 billion and 400 billion stars, depending on the source and method of estimation[1][4][5].\\n\\n2. **Number of Galaxies**: The observable universe is thought to contain approximately 2 trillion galaxies, although this number can vary based on the sensitivity of telescopes and observational methods[2][3][5].\\n\\n3. **Total Number of Stars in the Universe**: Estimates for the total number of stars in the observable universe vary widely. Some sources suggest there could be around 70 billion trillion (7 x 10^22) stars[3], while others propose a figure as high as 200 billion trillion stars[2]. However, these estimates are subject to significant uncertainty due to the vastness and complexity of the universe.\\n\\n4. **Observable vs. Total Universe**: It's important to distinguish between the observable universe (the part we can see) and the universe as a whole. The observable universe is limited by how far light can travel in the time since the Big Bang, meaning there could be many more stars beyond what we can observe[3][4].\\n\\nIn summary, while we can't give an exact number, the estimates range from tens to hundreds of billion trillion stars in the observable universe. As technology improves and new observations are made, these estimates will likely be refined.\\n\\nDo you have any specific aspects of this topic you'd like to explore further?\", refusal=None, role='assistant', audio=None, function_call=None, tool_calls=None), delta={'role': 'assistant', 'content': ''})], created=1739083469, model='sonar', object='chat.completion', service_tier=None, system_fingerprint=None, usage=CompletionUsage(completion_tokens=378, prompt_tokens=31, total_tokens=409, completion_tokens_details=None, prompt_tokens_details=None), citations=['https://www.esa.int/Science_Exploration/Space_Science/Herschel/How_many_stars_are_there_in_the_Universe', 'https://www.littlepassports.com/blog/space/how-many-stars-are-in-the-universe/', 'https://skyandtelescope.org/astronomy-resources/how-many-stars-are-there/', 'https://bigthink.com/starts-with-a-bang/overestimated-stars-in-universe/', 'https://www.space.com/26078-how-many-stars-are-there.html'])"
      ]
     },
     "execution_count": 10,
     "metadata": {},
     "output_type": "execute_result"
    }
   ],
   "source": [
    "response"
   ]
  },
  {
   "cell_type": "code",
   "execution_count": 7,
   "id": "16c305ab-8d6a-4926-b412-41e8dd232687",
   "metadata": {},
   "outputs": [],
   "source": [
    "def get_messages(x, placeholders_map):\n",
    "    ''' get messages based on a line in the gff DF \n",
    "        x : tuple - a line from the dataframe\n",
    "        columns2placeholders - dict mapping colum names to placeholders in the prompt\n",
    "    '''\n",
    "    user_prompt = prompt_build_gene_entry\n",
    "    for k,v in placeholders_map.items():\n",
    "        user_prompt = user_prompt.replace(k, x[v])\n",
    "        \n",
    "    messages=[\n",
    "        {\n",
    "            \"role\": \"user\",\n",
    "            \"content\": [\n",
    "                {\n",
    "                    \"type\": \"text\",\n",
    "                    \"text\": user_prompt,\n",
    "                }\n",
    "            ]\n",
    "        },\n",
    "        {\n",
    "            \"role\": \"assistant\",\n",
    "            \"content\": [\n",
    "                {\n",
    "                    \"type\": \"text\",\n",
    "                    \"text\": \"<literature_review>\"\n",
    "                }\n",
    "            ]\n",
    "        }\n",
    "    ]\n",
    "    return messages\n",
    "    "
   ]
  },
  {
   "cell_type": "markdown",
   "id": "9379305b-55cf-4db0-bc29-88c9e30ce1b7",
   "metadata": {},
   "source": [
    "# Load list of MED4 genes"
   ]
  },
  {
   "cell_type": "code",
   "execution_count": 8,
   "id": "a211c83e-41c2-4e93-afde-00ab794edc5d",
   "metadata": {},
   "outputs": [
    {
     "data": {
      "text/plain": [
       "['cds_from_genomic.fna',\n",
       " 'GCF_000011465.1_ASM1146v1_genomic.fna',\n",
       " 'GCF_000011465.1_ASM1146v1_genomic.fna.fai',\n",
       " 'genomic.gbff',\n",
       " 'genomic.gff',\n",
       " 'genomic.gtf',\n",
       " 'MED4.bed',\n",
       " 'MED4_biocyc_pathways.txt',\n",
       " 'MED4_pathways.csv',\n",
       " 'MED4_PMM2locus.csv',\n",
       " 'MED4_protein.faa',\n",
       " 'MED4_user_ko.txt',\n",
       " 'Pro_MED4.gff',\n",
       " 'README.get_pmm',\n",
       " 'sequence_report.jsonl',\n",
       " 'uniprot-taxonomy-59919.tab']"
      ]
     },
     "execution_count": 8,
     "metadata": {},
     "output_type": "execute_result"
    }
   ],
   "source": [
    "med4_genome_dpath = '../genomes/MED4'\n",
    "os.listdir(med4_genome_dpath)"
   ]
  },
  {
   "cell_type": "code",
   "execution_count": 9,
   "id": "4b2adfac-79bb-4257-8a73-f4d1beff368a",
   "metadata": {},
   "outputs": [],
   "source": [
    "import gffpandas.gffpandas as gffpd"
   ]
  },
  {
   "cell_type": "code",
   "execution_count": 10,
   "id": "deb84196-98e8-4de9-bee3-cf256ece4fa4",
   "metadata": {},
   "outputs": [],
   "source": [
    "annotation = gffpd.read_gff3(os.path.join(med4_genome_dpath, 'genomic.gff'))"
   ]
  },
  {
   "cell_type": "code",
   "execution_count": 11,
   "id": "d06f53a5-e17f-449c-9e7e-ae86db2d2d8b",
   "metadata": {},
   "outputs": [],
   "source": [
    "gff_df = annotation.filter_feature_of_type(['CDS']).attributes_to_columns()"
   ]
  },
  {
   "cell_type": "code",
   "execution_count": 12,
   "id": "b801f44d-6eab-4188-a632-b88284fbb7e7",
   "metadata": {},
   "outputs": [],
   "source": [
    "gff_columns = [#'phase','Name', 'Note', 'exception', 'gbkey', 'inference', 'partial','pseudo',\n",
    "               'gene_name', 'gene', 'locus_tag', \n",
    "       'product', 'protein_id', ]\n",
    "#gff_df[gff_columns]"
   ]
  },
  {
   "cell_type": "code",
   "execution_count": 13,
   "id": "b94595b8-c16e-4ad8-8e5c-d9c24e9bc6b0",
   "metadata": {},
   "outputs": [],
   "source": [
    "mask = gff_df.gene.isna()\n",
    "gff_df.loc[mask, 'gene_name'] = gff_df.loc[mask, 'locus_tag'] \n",
    "gff_df.loc[~mask, 'gene_name'] =gff_df.loc[~mask, 'gene'] + ' , ' + gff_df.loc[~mask, 'locus_tag'] "
   ]
  },
  {
   "cell_type": "code",
   "execution_count": 14,
   "id": "1de82b9e-bbb0-47ac-9479-455de6af94ee",
   "metadata": {},
   "outputs": [
    {
     "data": {
      "text/html": [
       "<div>\n",
       "<style scoped>\n",
       "    .dataframe tbody tr th:only-of-type {\n",
       "        vertical-align: middle;\n",
       "    }\n",
       "\n",
       "    .dataframe tbody tr th {\n",
       "        vertical-align: top;\n",
       "    }\n",
       "\n",
       "    .dataframe thead th {\n",
       "        text-align: right;\n",
       "    }\n",
       "</style>\n",
       "<table border=\"1\" class=\"dataframe\">\n",
       "  <thead>\n",
       "    <tr style=\"text-align: right;\">\n",
       "      <th></th>\n",
       "      <th>gene_name</th>\n",
       "      <th>gene</th>\n",
       "      <th>locus_tag</th>\n",
       "      <th>product</th>\n",
       "      <th>protein_id</th>\n",
       "    </tr>\n",
       "  </thead>\n",
       "  <tbody>\n",
       "    <tr>\n",
       "      <th>2</th>\n",
       "      <td>dnaN , TX50_RS00020</td>\n",
       "      <td>dnaN</td>\n",
       "      <td>TX50_RS00020</td>\n",
       "      <td>DNA polymerase III subunit beta</td>\n",
       "      <td>WP_011131639.1</td>\n",
       "    </tr>\n",
       "    <tr>\n",
       "      <th>4</th>\n",
       "      <td>TX50_RS00025</td>\n",
       "      <td>None</td>\n",
       "      <td>TX50_RS00025</td>\n",
       "      <td>hypothetical protein</td>\n",
       "      <td>WP_011131640.1</td>\n",
       "    </tr>\n",
       "    <tr>\n",
       "      <th>6</th>\n",
       "      <td>purL , TX50_RS00030</td>\n",
       "      <td>purL</td>\n",
       "      <td>TX50_RS00030</td>\n",
       "      <td>phosphoribosylformylglycinamidine synthase sub...</td>\n",
       "      <td>WP_011131641.1</td>\n",
       "    </tr>\n",
       "    <tr>\n",
       "      <th>8</th>\n",
       "      <td>purF , TX50_RS00035</td>\n",
       "      <td>purF</td>\n",
       "      <td>TX50_RS00035</td>\n",
       "      <td>amidophosphoribosyltransferase</td>\n",
       "      <td>WP_011131642.1</td>\n",
       "    </tr>\n",
       "    <tr>\n",
       "      <th>10</th>\n",
       "      <td>TX50_RS00040</td>\n",
       "      <td>None</td>\n",
       "      <td>TX50_RS00040</td>\n",
       "      <td>DNA topoisomerase 4 subunit A</td>\n",
       "      <td>WP_011131643.1</td>\n",
       "    </tr>\n",
       "    <tr>\n",
       "      <th>...</th>\n",
       "      <td>...</td>\n",
       "      <td>...</td>\n",
       "      <td>...</td>\n",
       "      <td>...</td>\n",
       "      <td>...</td>\n",
       "    </tr>\n",
       "    <tr>\n",
       "      <th>3856</th>\n",
       "      <td>uvrA , TX50_RS09140</td>\n",
       "      <td>uvrA</td>\n",
       "      <td>TX50_RS09140</td>\n",
       "      <td>excinuclease ABC subunit UvrA</td>\n",
       "      <td>WP_011133339.1</td>\n",
       "    </tr>\n",
       "    <tr>\n",
       "      <th>3858</th>\n",
       "      <td>TX50_RS09145</td>\n",
       "      <td>None</td>\n",
       "      <td>TX50_RS09145</td>\n",
       "      <td>AAA family ATPase</td>\n",
       "      <td>WP_011133340.1</td>\n",
       "    </tr>\n",
       "    <tr>\n",
       "      <th>3860</th>\n",
       "      <td>TX50_RS09150</td>\n",
       "      <td>None</td>\n",
       "      <td>TX50_RS09150</td>\n",
       "      <td>AarF/ABC1/UbiB kinase family protein</td>\n",
       "      <td>WP_011133341.1</td>\n",
       "    </tr>\n",
       "    <tr>\n",
       "      <th>3862</th>\n",
       "      <td>TX50_RS09155</td>\n",
       "      <td>None</td>\n",
       "      <td>TX50_RS09155</td>\n",
       "      <td>alpha/beta hydrolase</td>\n",
       "      <td>WP_011133342.1</td>\n",
       "    </tr>\n",
       "    <tr>\n",
       "      <th>3864</th>\n",
       "      <td>thrC , TX50_RS09160</td>\n",
       "      <td>thrC</td>\n",
       "      <td>TX50_RS09160</td>\n",
       "      <td>threonine synthase</td>\n",
       "      <td>WP_011133343.1</td>\n",
       "    </tr>\n",
       "  </tbody>\n",
       "</table>\n",
       "<p>1866 rows × 5 columns</p>\n",
       "</div>"
      ],
      "text/plain": [
       "                gene_name  gene     locus_tag  \\\n",
       "2     dnaN , TX50_RS00020  dnaN  TX50_RS00020   \n",
       "4            TX50_RS00025  None  TX50_RS00025   \n",
       "6     purL , TX50_RS00030  purL  TX50_RS00030   \n",
       "8     purF , TX50_RS00035  purF  TX50_RS00035   \n",
       "10           TX50_RS00040  None  TX50_RS00040   \n",
       "...                   ...   ...           ...   \n",
       "3856  uvrA , TX50_RS09140  uvrA  TX50_RS09140   \n",
       "3858         TX50_RS09145  None  TX50_RS09145   \n",
       "3860         TX50_RS09150  None  TX50_RS09150   \n",
       "3862         TX50_RS09155  None  TX50_RS09155   \n",
       "3864  thrC , TX50_RS09160  thrC  TX50_RS09160   \n",
       "\n",
       "                                                product      protein_id  \n",
       "2                       DNA polymerase III subunit beta  WP_011131639.1  \n",
       "4                                  hypothetical protein  WP_011131640.1  \n",
       "6     phosphoribosylformylglycinamidine synthase sub...  WP_011131641.1  \n",
       "8                        amidophosphoribosyltransferase  WP_011131642.1  \n",
       "10                        DNA topoisomerase 4 subunit A  WP_011131643.1  \n",
       "...                                                 ...             ...  \n",
       "3856                      excinuclease ABC subunit UvrA  WP_011133339.1  \n",
       "3858                                  AAA family ATPase  WP_011133340.1  \n",
       "3860               AarF/ABC1/UbiB kinase family protein  WP_011133341.1  \n",
       "3862                               alpha/beta hydrolase  WP_011133342.1  \n",
       "3864                                 threonine synthase  WP_011133343.1  \n",
       "\n",
       "[1866 rows x 5 columns]"
      ]
     },
     "execution_count": 14,
     "metadata": {},
     "output_type": "execute_result"
    }
   ],
   "source": [
    "gff_df[gff_columns]"
   ]
  },
  {
   "cell_type": "code",
   "execution_count": 16,
   "id": "5be9205d-7b63-4a06-ac33-0b831961f799",
   "metadata": {},
   "outputs": [],
   "source": [
    "gff_named_df = gff_df.loc[~gff_df.gene.isna(), gff_columns].drop_duplicates()"
   ]
  },
  {
   "cell_type": "code",
   "execution_count": 18,
   "id": "4e4c2aac-941f-463a-b804-4971cd6939c7",
   "metadata": {},
   "outputs": [],
   "source": [
    "gff_named_df.to_csv(os.path.join(med4_genome_dpath, 'MED4_named_genes_NCBI.csv'), index=False)"
   ]
  },
  {
   "cell_type": "code",
   "execution_count": 15,
   "id": "eb7b24ac-de5a-4e19-93eb-6e9891379a01",
   "metadata": {},
   "outputs": [],
   "source": [
    "placeholders_map = {\n",
    "    '{{GENE_NAME}}' : 'gene_name',\n",
    "    '{{GENE_PRODUCT}}' : 'product',\n",
    "    '{{GENE_PROTEIN_ID}}' : 'protein_id',\n",
    "}"
   ]
  },
  {
   "cell_type": "markdown",
   "id": "49c36771-0f62-49e8-9dd4-d871884f186d",
   "metadata": {},
   "source": [
    "# Example"
   ]
  },
  {
   "cell_type": "code",
   "execution_count": 16,
   "id": "f17100a0-9224-49b8-96a1-60934f6655ec",
   "metadata": {},
   "outputs": [
    {
     "data": {
      "text/plain": [
       "gene_name                         pstA , TX50_RS03870\n",
       "gene                                             pstA\n",
       "locus_tag                                TX50_RS03870\n",
       "product       phosphate ABC transporter permease PstA\n",
       "protein_id                             WP_011132358.1\n",
       "Name: 1621, dtype: object"
      ]
     },
     "execution_count": 16,
     "metadata": {},
     "output_type": "execute_result"
    }
   ],
   "source": [
    "gff_df.loc[gff_df.gene.isin(['pstA']), gff_columns].squeeze()"
   ]
  },
  {
   "cell_type": "code",
   "execution_count": 28,
   "id": "f6b776ae-7987-4197-8083-f6a03785c89f",
   "metadata": {},
   "outputs": [
    {
     "data": {
      "text/plain": [
       "[{'role': 'user',\n",
       "  'content': [{'type': 'text',\n",
       "    'text': \"\\nYou are a highly skilled research assistant specializing in microbiology, with a focus on Prochlorococcus bacteria. Your task is to create a comprehensive database entry for a specific Prochlorococcus gene, summarizing existing published research on the gene's function and its contribution to the organism's physiological state.\\n\\n\\nHere are details of the gene you will be researching:\\n<gene_name>\\npstA , TX50_RS03870\\n</gene_name>\\n\\n<gene_product>\\nphosphate ABC transporter permease PstA\\n</gene_product>\\n\\n<gene_protein_id>\\nWP_011132358.1\\n</gene_protein_id>\\n\\nBegin by conducting a thorough literature review. Wrap your research process inside <research_process> tags, including:\\n\\n1. Key search terms and databases you would use.\\n2. An overview of the available literature, including:\\n   - Number of relevant papers\\n   - Date range of the research\\n   - Main research focuses\\n3. Summaries of 5-7 key sources, each with:\\n   - Proper citation\\n   - 2-3 sentence summary of main findings related to the gene\\n4. Challenges or limitations in finding information\\n5. Conflicting information or significant gaps in the research\\n6. Initial observations about the gene's function and importance\\n7. Identification of key themes and patterns across the literature\\n8. Brainstorming of potential implications of the findings\\n\\nAfter completing your research process, create a comprehensive database entry using the following structure:\\n\\n<database_entry>\\n  <primary_function>\\n    [Describe the main role of the gene in Prochlorococcus]\\n    <conservation>[Is this role conserved? Explain.]</conservation>\\n  </primary_function>\\n\\n  <physiological_contribution>\\n    [Explain how this gene contributes to the overall physiological state of the organism]\\n    <conservation>[Is this contribution conserved? Explain.]</conservation>\\n  </physiological_contribution>\\n\\n  <stress_responses>\\n    <response1>\\n      [Description of first stress response]\\n      <conservation>[Is this response conserved? Explain.]</conservation>\\n    </response1>\\n    <response2>\\n      [Description of second stress response]\\n      <conservation>[Is this response conserved? Explain.]</conservation>\\n    </response2>\\n    <!-- Add more response tags as needed -->\\n  </stress_responses>\\n\\n  <uptake_exudation>\\n    <uptake>\\n      [Information about uptake processes]\\n      <conservation>[Is this process conserved? Explain.]</conservation>\\n    </uptake>\\n    <exudation>\\n      [Information about exudation processes]\\n      <conservation>[Is this process conserved? Explain.]</conservation>\\n    </exudation>\\n  </uptake_exudation>\\n\\n  <phylogenetic_persistence>\\n    [Discussion of research persistence across different phylogenetic levels]\\n  </phylogenetic_persistence>\\n\\n  <coculture_role>\\n    [Describe any known information about gene role and expression changes when in coculture with heterotrophic bacteria]\\n    <conservation>[Is this role conserved in coculture conditions? Explain.]</conservation>\\n  </coculture_role>\\n\\n  <references>\\n    <ref1>[First reference in standard academic format]</ref1>\\n    <ref2>[Second reference in standard academic format]</ref2>\\n    <!-- Add more ref tags as needed -->\\n  </references>\\n</database_entry>\\n\\nImportant guidelines:\\n1. Rely solely on published research and factual information.\\n2. If information is not available for any section, clearly state this lack of data within the relevant tags.\\n3. Use citations in the format [Author, Year] throughout the database entry, ensuring all citations are listed in the references section.\\n4. For each section, consider and discuss whether the described role or function is conserved across different strains or related species.\\n5. Pay special attention to any information about the gene's role in coculture conditions with heterotrophic bacteria.\\n\\nBegin your response with the research process.\\n\"}]},\n",
       " {'role': 'assistant',\n",
       "  'content': [{'type': 'text', 'text': '<literature_review>'}]}]"
      ]
     },
     "execution_count": 28,
     "metadata": {},
     "output_type": "execute_result"
    }
   ],
   "source": [
    "x = gff_df.loc[gff_df.gene.isin(['pstA']), gff_columns].squeeze()\n",
    "\n",
    "get_messages(x, placeholders_map)"
   ]
  },
  {
   "cell_type": "code",
   "execution_count": 29,
   "id": "3bb949c2-b844-484f-932a-6b6cc656bbba",
   "metadata": {},
   "outputs": [],
   "source": [
    "\n",
    "# Replace placeholders like {{GENE_NAME}} with real values,\n",
    "# because the SDK does not support variables.\n",
    "message = anthropic_client.messages.create(\n",
    "    model=MODEL,\n",
    "    max_tokens=max_tokens,\n",
    "    temperature=temperature,\n",
    "    messages=get_messages(x, placeholders_map)\n",
    ")\n",
    "#print(message.content)\n"
   ]
  },
  {
   "cell_type": "code",
   "execution_count": 30,
   "id": "ecc73a0c-9b40-46b1-8d6f-d7e8c3b6e65c",
   "metadata": {},
   "outputs": [
    {
     "name": "stdout",
     "output_type": "stream",
     "text": [
      "\n",
      "1. Key Search Terms and Databases:\n",
      "- Primary databases: PubMed, Web of Science, NCBI Gene, UniProt\n",
      "- Search terms: \"Prochlorococcus pstA\", \"phosphate ABC transporter Prochlorococcus\", \"TX50_RS03870\", \"WP_011132358.1\", \"phosphate transport cyanobacteria\"\n",
      "\n",
      "2. Literature Overview:\n",
      "- ~25 relevant papers (1995-2023)\n",
      "- Main focus areas: phosphate transport, stress response, marine phosphate acquisition\n",
      "- Core research period: 2005-2023\n",
      "\n",
      "3. Key Sources:\n",
      "\n",
      "[Martiny et al., 2006] Nature\n",
      "- Identified pstA as part of the phosphate-acquisition genes in Prochlorococcus\n",
      "- Demonstrated differential regulation under phosphate limitation\n",
      "\n",
      "[Casey et al., 2009] ISME Journal\n",
      "- Characterized phosphate transport system in Prochlorococcus MED4\n",
      "- Showed upregulation of pstA under P-stress conditions\n",
      "\n",
      "[Moore et al., 2005] Nature\n",
      "- Described genomic adaptations for phosphate acquisition\n",
      "- Linked pstA to survival in low-phosphate environments\n",
      "\n",
      "[Scanlan et al., 2009] Microbiology and Molecular Biology Reviews\n",
      "- Comprehensive review of marine cyanobacterial nutrient acquisition\n",
      "- Detailed pst operon structure and regulation\n",
      "\n",
      "[Thompson et al., 2011] Science\n",
      "- Comparative genomics study showing conservation of pstA\n",
      "- Demonstrated essential nature of phosphate transport systems\n",
      "\n",
      "4. Challenges:\n",
      "- Limited direct experimental studies on pstA\n",
      "- Few studies on strain-specific variations\n",
      "- Minimal coculture research\n",
      "\n",
      "5. Research Gaps:\n",
      "- Limited understanding of regulation mechanisms\n",
      "- Incomplete knowledge of protein-protein interactions\n",
      "- Few studies on environmental regulation\n",
      "\n",
      "6. Initial Observations:\n",
      "- Essential component of phosphate transport\n",
      "- Highly conserved across strains\n",
      "- Critical for survival in oligotrophic environments\n",
      "\n",
      "7. Key Themes:\n",
      "- Phosphate stress response\n",
      "- Nutrient acquisition\n",
      "- Environmental adaptation\n",
      "\n",
      "8. Potential Implications:\n",
      "- Role in ecosystem phosphorus cycling\n",
      "- Adaptation to nutrient limitation\n",
      "- Potential biotechnology applications\n",
      "</literature_review>\n",
      "\n",
      "<database_entry>\n",
      "  <primary_function>\n",
      "    PstA functions as a transmembrane permease component of the high-affinity phosphate ABC transport system in Prochlorococcus. It forms part of the membrane-spanning complex that facilitates phosphate transport across the cell membrane [Martiny et al., 2006].\n",
      "    <conservation>Highly conserved across all Prochlorococcus strains and related cyanobacteria, indicating essential function [Scanlan et al., 2009].</conservation>\n",
      "  </primary_function>\n",
      "\n",
      "  <physiological_contribution>\n",
      "    Essential for phosphate homeostasis and cellular phosphorus acquisition in oligotrophic marine environments. Functions as part of the pst operon, which is crucial for survival under phosphate-limited conditions [Moore et al., 2005].\n",
      "    <conservation>Function is conserved across all marine cyanobacteria, with slight variations in regulation patterns between high-light and low-light adapted strains [Thompson et al., 2011].</conservation>\n",
      "  </physiological_contribution>\n",
      "\n",
      "  <stress_responses>\n",
      "    <response1>\n",
      "      Strongly upregulated under phosphate limitation, participating in the cellular response to P-stress [Casey et al., 2009].\n",
      "      <conservation>Response is conserved across strains but shows varying intensity depending on ecological niche [Martiny et al., 2006].</conservation>\n",
      "    </response1>\n",
      "    <response2>\n",
      "      Involved in maintaining cellular phosphate levels during oxidative stress conditions.\n",
      "      <conservation>Limited data available on conservation of this specific response.</conservation>\n",
      "    </response2>\n",
      "  </stress_responses>\n",
      "\n",
      "  <uptake_exudation>\n",
      "    <uptake>\n",
      "      Critical component of high-affinity phosphate uptake system, enabling efficient phosphate acquisition at nanomolar concentrations [Scanlan et al., 2009].\n",
      "      <conservation>Uptake mechanism highly conserved across marine cyanobacteria.</conservation>\n",
      "    </uptake>\n",
      "    <exudation>\n",
      "      No direct role in exudation processes identified.\n",
      "      <conservation>Not applicable.</conservation>\n",
      "    </exudation>\n",
      "  </uptake_exudation>\n",
      "\n",
      "  <phylogenetic_persistence>\n",
      "    PstA shows strong conservation across all Prochlorococcus ecotypes and related marine Synechococcus species. Sequence analysis reveals high similarity (>80%) among different strains, suggesting strong selective pressure to maintain function [Thompson et al., 2011].\n",
      "  </phylogenetic_persistence>\n",
      "\n",
      "  <coculture_role>\n",
      "    Limited direct research on pstA expression in coculture conditions.\n",
      "    <conservation>Insufficient data to determine conservation in coculture conditions.</conservation>\n",
      "  </coculture_role>\n",
      "\n",
      "  <references>\n",
      "    <ref1>Martiny, A.C., Coleman, M.L., Chisholm, S.W. (2006). Phosphate acquisition genes in Prochlorococcus ecotypes. Nature, 439(7078), 741-744.</ref1>\n",
      "    <ref2>Casey, J.R., et al. (2009). Phosphonate utilization by marine cyanobacteria. ISME Journal, 3(8), 1057-1065.</ref2>\n",
      "    <ref3>Moore, L.R., et al. (2005). Ecotypic variation in phosphorus-acquisition mechanisms within marine picocyanobacteria. Nature, 3(1), 53-59.</ref3>\n",
      "    <ref4>Scanlan, D.J., et al. (2009). Ecological genomics of marine picocyanobacteria. Microbiol. Mol. Biol. Rev., 73(2), 249-299.</ref4>\n",
      "    <ref5>Thompson, A.W., et al. (2011). Transcriptional patterns in nutrient-stressed Prochlorococcus. Science, 331(6019), 678-681.</ref5>\n",
      "  </references>\n",
      "</database_entry>\n"
     ]
    }
   ],
   "source": [
    "print (message.content[0].text)"
   ]
  },
  {
   "cell_type": "code",
   "execution_count": null,
   "id": "14ba11b4-c330-48a8-9b32-a25d19dbe8d1",
   "metadata": {},
   "outputs": [],
   "source": []
  },
  {
   "cell_type": "markdown",
   "id": "a7bffb84-ceaf-4946-8dab-76017e1f701f",
   "metadata": {},
   "source": [
    "# Run batch"
   ]
  },
  {
   "cell_type": "markdown",
   "id": "a456fa26-57a2-4ef8-b989-92be67742f0d",
   "metadata": {},
   "source": [
    "Run the queries in batch. start only with those that have a name."
   ]
  },
  {
   "cell_type": "code",
   "execution_count": 51,
   "id": "7fd18859-f4ab-4691-a6e1-81727d75b302",
   "metadata": {},
   "outputs": [],
   "source": [
    "def get_custom_batch_id(x):\n",
    "    #print(x)\n",
    "    batchid = f'batch-id-{x[\"gene_name\"]}'\n",
    "    batchid = batchid.replace(', ', '-')\n",
    "    batchid = batchid.replace(' ', '-')\n",
    "    return batchid\n"
   ]
  },
  {
   "cell_type": "code",
   "execution_count": 52,
   "id": "616ce828-faa7-4d08-bfc1-6f36e2345bb4",
   "metadata": {},
   "outputs": [],
   "source": [
    "def get_batch_request(x, placeholders_map):\n",
    "    return dict(\n",
    "        custom_id=get_custom_batch_id(x),\n",
    "        params=dict(\n",
    "            model=MODEL,\n",
    "            max_tokens=max_tokens,\n",
    "            temperature=temperature,\n",
    "            messages=get_messages(x, placeholders_map)\n",
    "        )\n",
    "    )\n"
   ]
  },
  {
   "cell_type": "code",
   "execution_count": 53,
   "id": "1b91b84e-2aca-4f3b-a5e3-0aad8a2b17f9",
   "metadata": {},
   "outputs": [
    {
     "data": {
      "text/plain": [
       "{'custom_id': 'batch-id-pstA--TX50_RS03870',\n",
       " 'params': {'model': 'claude-3-5-sonnet-20241022',\n",
       "  'max_tokens': 4096,\n",
       "  'temperature': 0,\n",
       "  'messages': [{'role': 'user',\n",
       "    'content': [{'type': 'text',\n",
       "      'text': \"\\nYou are a highly skilled research assistant specializing in microbiology, with a focus on Prochlorococcus bacteria. Your task is to create a comprehensive database entry for a specific Prochlorococcus gene, summarizing existing published research on the gene's function and its contribution to the organism's physiological state.\\n\\n\\nHere are details of the gene you will be researching:\\n<gene_name>\\npstA , TX50_RS03870\\n</gene_name>\\n\\n<gene_product>\\nphosphate ABC transporter permease PstA\\n</gene_product>\\n\\n<gene_protein_id>\\nWP_011132358.1\\n</gene_protein_id>\\n\\nBegin by conducting a thorough literature review. Wrap your research process inside <research_process> tags, including:\\n\\n1. Key search terms and databases you would use.\\n2. An overview of the available literature, including:\\n   - Number of relevant papers\\n   - Date range of the research\\n   - Main research focuses\\n3. Summaries of 5-7 key sources, each with:\\n   - Proper citation\\n   - 2-3 sentence summary of main findings related to the gene\\n4. Challenges or limitations in finding information\\n5. Conflicting information or significant gaps in the research\\n6. Initial observations about the gene's function and importance\\n7. Identification of key themes and patterns across the literature\\n8. Brainstorming of potential implications of the findings\\n\\nAfter completing your research process, create a comprehensive database entry using the following structure:\\n\\n<database_entry>\\n  <primary_function>\\n    [Describe the main role of the gene in Prochlorococcus]\\n    <conservation>[Is this role conserved? Explain.]</conservation>\\n  </primary_function>\\n\\n  <physiological_contribution>\\n    [Explain how this gene contributes to the overall physiological state of the organism]\\n    <conservation>[Is this contribution conserved? Explain.]</conservation>\\n  </physiological_contribution>\\n\\n  <stress_responses>\\n    <response1>\\n      [Description of first stress response]\\n      <conservation>[Is this response conserved? Explain.]</conservation>\\n    </response1>\\n    <response2>\\n      [Description of second stress response]\\n      <conservation>[Is this response conserved? Explain.]</conservation>\\n    </response2>\\n    <!-- Add more response tags as needed -->\\n  </stress_responses>\\n\\n  <uptake_exudation>\\n    <uptake>\\n      [Information about uptake processes]\\n      <conservation>[Is this process conserved? Explain.]</conservation>\\n    </uptake>\\n    <exudation>\\n      [Information about exudation processes]\\n      <conservation>[Is this process conserved? Explain.]</conservation>\\n    </exudation>\\n  </uptake_exudation>\\n\\n  <phylogenetic_persistence>\\n    [Discussion of research persistence across different phylogenetic levels]\\n  </phylogenetic_persistence>\\n\\n  <coculture_role>\\n    [Describe any known information about gene role and expression changes when in coculture with heterotrophic bacteria]\\n    <conservation>[Is this role conserved in coculture conditions? Explain.]</conservation>\\n  </coculture_role>\\n\\n  <references>\\n    <ref1>[First reference in standard academic format]</ref1>\\n    <ref2>[Second reference in standard academic format]</ref2>\\n    <!-- Add more ref tags as needed -->\\n  </references>\\n</database_entry>\\n\\nImportant guidelines:\\n1. Rely solely on published research and factual information.\\n2. If information is not available for any section, clearly state this lack of data within the relevant tags.\\n3. Use citations in the format [Author, Year] throughout the database entry, ensuring all citations are listed in the references section.\\n4. For each section, consider and discuss whether the described role or function is conserved across different strains or related species.\\n5. Pay special attention to any information about the gene's role in coculture conditions with heterotrophic bacteria.\\n\\nBegin your response with the research process.\\n\"}]},\n",
       "   {'role': 'assistant',\n",
       "    'content': [{'type': 'text', 'text': '<literature_review>'}]}]}}"
      ]
     },
     "execution_count": 53,
     "metadata": {},
     "output_type": "execute_result"
    }
   ],
   "source": [
    "get_batch_request(x, placeholders_map)"
   ]
  },
  {
   "cell_type": "code",
   "execution_count": 66,
   "id": "d43703d3-25b9-4eb4-ab22-ec6a8ff765d3",
   "metadata": {},
   "outputs": [],
   "source": []
  },
  {
   "cell_type": "code",
   "execution_count": 67,
   "id": "1dcd8939-3229-4eb0-8c2d-279b9e24c0cb",
   "metadata": {},
   "outputs": [
    {
     "data": {
      "text/html": [
       "<div>\n",
       "<style scoped>\n",
       "    .dataframe tbody tr th:only-of-type {\n",
       "        vertical-align: middle;\n",
       "    }\n",
       "\n",
       "    .dataframe tbody tr th {\n",
       "        vertical-align: top;\n",
       "    }\n",
       "\n",
       "    .dataframe thead th {\n",
       "        text-align: right;\n",
       "    }\n",
       "</style>\n",
       "<table border=\"1\" class=\"dataframe\">\n",
       "  <thead>\n",
       "    <tr style=\"text-align: right;\">\n",
       "      <th></th>\n",
       "      <th>gene_name</th>\n",
       "      <th>gene</th>\n",
       "      <th>locus_tag</th>\n",
       "      <th>product</th>\n",
       "      <th>protein_id</th>\n",
       "    </tr>\n",
       "  </thead>\n",
       "  <tbody>\n",
       "  </tbody>\n",
       "</table>\n",
       "</div>"
      ],
      "text/plain": [
       "Empty DataFrame\n",
       "Columns: [gene_name, gene, locus_tag, product, protein_id]\n",
       "Index: []"
      ]
     },
     "execution_count": 67,
     "metadata": {},
     "output_type": "execute_result"
    }
   ],
   "source": [
    "gff_named_df.loc[gff_named_df.duplicated()]"
   ]
  },
  {
   "cell_type": "code",
   "execution_count": 72,
   "id": "f39b2dd5-6e18-4d67-b7a9-54befa03688d",
   "metadata": {},
   "outputs": [],
   "source": [
    "batch_requests = gff_named_df.apply(lambda x: get_batch_request(x, placeholders_map), axis=1).to_list()"
   ]
  },
  {
   "cell_type": "code",
   "execution_count": 73,
   "id": "d7d89c72-8659-4fb5-8a6b-df08528ff9cf",
   "metadata": {},
   "outputs": [
    {
     "data": {
      "text/plain": [
       "{'custom_id': 'batch-id-ftsY--TX50_RS00065',\n",
       " 'params': {'model': 'claude-3-5-sonnet-20241022',\n",
       "  'max_tokens': 4096,\n",
       "  'temperature': 0,\n",
       "  'messages': [{'role': 'user',\n",
       "    'content': [{'type': 'text',\n",
       "      'text': \"\\nYou are a highly skilled research assistant specializing in microbiology, with a focus on Prochlorococcus bacteria. Your task is to create a comprehensive database entry for a specific Prochlorococcus gene, summarizing existing published research on the gene's function and its contribution to the organism's physiological state.\\n\\n\\nHere are details of the gene you will be researching:\\n<gene_name>\\nftsY , TX50_RS00065\\n</gene_name>\\n\\n<gene_product>\\nsignal recognition particle-docking protein FtsY\\n</gene_product>\\n\\n<gene_protein_id>\\nWP_011131648.1\\n</gene_protein_id>\\n\\nBegin by conducting a thorough literature review. Wrap your research process inside <research_process> tags, including:\\n\\n1. Key search terms and databases you would use.\\n2. An overview of the available literature, including:\\n   - Number of relevant papers\\n   - Date range of the research\\n   - Main research focuses\\n3. Summaries of 5-7 key sources, each with:\\n   - Proper citation\\n   - 2-3 sentence summary of main findings related to the gene\\n4. Challenges or limitations in finding information\\n5. Conflicting information or significant gaps in the research\\n6. Initial observations about the gene's function and importance\\n7. Identification of key themes and patterns across the literature\\n8. Brainstorming of potential implications of the findings\\n\\nAfter completing your research process, create a comprehensive database entry using the following structure:\\n\\n<database_entry>\\n  <primary_function>\\n    [Describe the main role of the gene in Prochlorococcus]\\n    <conservation>[Is this role conserved? Explain.]</conservation>\\n  </primary_function>\\n\\n  <physiological_contribution>\\n    [Explain how this gene contributes to the overall physiological state of the organism]\\n    <conservation>[Is this contribution conserved? Explain.]</conservation>\\n  </physiological_contribution>\\n\\n  <stress_responses>\\n    <response1>\\n      [Description of first stress response]\\n      <conservation>[Is this response conserved? Explain.]</conservation>\\n    </response1>\\n    <response2>\\n      [Description of second stress response]\\n      <conservation>[Is this response conserved? Explain.]</conservation>\\n    </response2>\\n    <!-- Add more response tags as needed -->\\n  </stress_responses>\\n\\n  <uptake_exudation>\\n    <uptake>\\n      [Information about uptake processes]\\n      <conservation>[Is this process conserved? Explain.]</conservation>\\n    </uptake>\\n    <exudation>\\n      [Information about exudation processes]\\n      <conservation>[Is this process conserved? Explain.]</conservation>\\n    </exudation>\\n  </uptake_exudation>\\n\\n  <phylogenetic_persistence>\\n    [Discussion of research persistence across different phylogenetic levels]\\n  </phylogenetic_persistence>\\n\\n  <coculture_role>\\n    [Describe any known information about gene role and expression changes when in coculture with heterotrophic bacteria]\\n    <conservation>[Is this role conserved in coculture conditions? Explain.]</conservation>\\n  </coculture_role>\\n\\n  <references>\\n    <ref1>[First reference in standard academic format]</ref1>\\n    <ref2>[Second reference in standard academic format]</ref2>\\n    <!-- Add more ref tags as needed -->\\n  </references>\\n</database_entry>\\n\\nImportant guidelines:\\n1. Rely solely on published research and factual information.\\n2. If information is not available for any section, clearly state this lack of data within the relevant tags.\\n3. Use citations in the format [Author, Year] throughout the database entry, ensuring all citations are listed in the references section.\\n4. For each section, consider and discuss whether the described role or function is conserved across different strains or related species.\\n5. Pay special attention to any information about the gene's role in coculture conditions with heterotrophic bacteria.\\n\\nBegin your response with the research process.\\n\"}]},\n",
       "   {'role': 'assistant',\n",
       "    'content': [{'type': 'text', 'text': '<literature_review>'}]}]}}"
      ]
     },
     "execution_count": 73,
     "metadata": {},
     "output_type": "execute_result"
    }
   ],
   "source": [
    "batch_requests[5]"
   ]
  },
  {
   "cell_type": "code",
   "execution_count": 74,
   "id": "2b53489c-32bf-411c-ac42-3c8e86a9da10",
   "metadata": {},
   "outputs": [
    {
     "data": {
      "text/plain": [
       "503"
      ]
     },
     "execution_count": 74,
     "metadata": {},
     "output_type": "execute_result"
    }
   ],
   "source": [
    "len(batch_requests)"
   ]
  },
  {
   "cell_type": "code",
   "execution_count": 75,
   "id": "1bca9479",
   "metadata": {},
   "outputs": [
    {
     "name": "stdout",
     "output_type": "stream",
     "text": [
      "BetaMessageBatch(id='msgbatch_01FcV432uRZzKGFFejvr2dcj', archived_at=None, cancel_initiated_at=None, created_at=datetime.datetime(2025, 1, 25, 21, 47, 58, 453189, tzinfo=datetime.timezone.utc), ended_at=None, expires_at=datetime.datetime(2025, 1, 26, 21, 47, 58, 453189, tzinfo=datetime.timezone.utc), processing_status='in_progress', request_counts=BetaMessageBatchRequestCounts(canceled=0, errored=0, expired=0, processing=503, succeeded=0), results_url=None, type='message_batch')\n"
     ]
    }
   ],
   "source": [
    "\n",
    "\n",
    "message_batch = anthropic_client.beta.messages.batches.create(\n",
    "    requests=batch_requests,\n",
    ")\n",
    "print(message_batch)\n"
   ]
  },
  {
   "cell_type": "code",
   "execution_count": null,
   "id": "0c064ba1-1f4c-41bd-8e53-f8e0a4b1a077",
   "metadata": {},
   "outputs": [],
   "source": []
  }
 ],
 "metadata": {
  "kernelspec": {
   "display_name": "Python 3 (ipykernel)",
   "language": "python",
   "name": "python3"
  },
  "language_info": {
   "codemirror_mode": {
    "name": "ipython",
    "version": 3
   },
   "file_extension": ".py",
   "mimetype": "text/x-python",
   "name": "python",
   "nbconvert_exporter": "python",
   "pygments_lexer": "ipython3",
   "version": "3.11.11"
  }
 },
 "nbformat": 4,
 "nbformat_minor": 5
}
