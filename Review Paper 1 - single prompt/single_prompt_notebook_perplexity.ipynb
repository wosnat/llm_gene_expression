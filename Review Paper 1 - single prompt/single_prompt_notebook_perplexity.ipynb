{
 "cells": [
  {
   "cell_type": "markdown",
   "id": "df91b6de-bc1e-45d4-ae9c-ede6c3cdc030",
   "metadata": {},
   "source": [
    "# House keeping and setups"
   ]
  },
  {
   "cell_type": "code",
   "execution_count": 1,
   "id": "da2be0f3-9a70-4895-b181-559a9027cf6f",
   "metadata": {},
   "outputs": [],
   "source": [
    "import os\n",
    "import json\n",
    "from dotenv import load_dotenv\n",
    "from openai import OpenAI\n",
    "import anthropic\n",
    "import google.generativeai\n",
    "import gradio as gr\n",
    "from IPython.display import Markdown, display, update_display"
   ]
  },
  {
   "cell_type": "code",
   "execution_count": 2,
   "id": "ca193632-0d55-4863-afb3-b41c1232e161",
   "metadata": {},
   "outputs": [],
   "source": [
    "import pandas as pd\n",
    "import numpy as np"
   ]
  },
  {
   "cell_type": "code",
   "execution_count": 3,
   "id": "e775b4b8-c549-425b-893f-e4102ff69ff6",
   "metadata": {},
   "outputs": [],
   "source": [
    "%load_ext autoreload\n",
    "%autoreload 2"
   ]
  },
  {
   "cell_type": "code",
   "execution_count": 58,
   "id": "38390c60-4be1-46d5-8068-67fdec5adc12",
   "metadata": {},
   "outputs": [],
   "source": [
    "from prompts import * \n"
   ]
  },
  {
   "cell_type": "code",
   "execution_count": 5,
   "id": "19b8891e-c77f-4c60-948c-e282766c77aa",
   "metadata": {},
   "outputs": [
    {
     "name": "stdout",
     "output_type": "stream",
     "text": [
      "OpenAI API Key exists and begins sk-proj-\n",
      "Anthropic API Key exists and begins sk-ant-\n",
      "Google API Key exists and begins AIzaSyCF\n",
      "Perplexity API Key exists and begins pplx-H\n"
     ]
    }
   ],
   "source": [
    "# Load environment variables in a file called .env\n",
    "# Print the key prefixes to help with any debugging\n",
    "\n",
    "load_dotenv()\n",
    "openai_api_key = os.getenv('OPENAI_API_KEY')\n",
    "anthropic_api_key = os.getenv('ANTHROPIC_API_KEY')\n",
    "google_api_key = os.getenv('GOOGLE_API_KEY')\n",
    "perplexity_api_key = os.getenv('PERPLEXITY_API_KEY')\n",
    "\n",
    "if openai_api_key:\n",
    "    print(f\"OpenAI API Key exists and begins {openai_api_key[:8]}\")\n",
    "else:\n",
    "    print(\"OpenAI API Key not set\")\n",
    "    \n",
    "if anthropic_api_key:\n",
    "    print(f\"Anthropic API Key exists and begins {anthropic_api_key[:7]}\")\n",
    "else:\n",
    "    print(\"Anthropic API Key not set\")\n",
    "\n",
    "if google_api_key:\n",
    "    print(f\"Google API Key exists and begins {google_api_key[:8]}\")\n",
    "else:\n",
    "    print(\"Google API Key not set\")\n",
    "\n",
    "\n",
    "if perplexity_api_key:\n",
    "    print(f\"Perplexity API Key exists and begins {perplexity_api_key[:6]}\")\n",
    "else:\n",
    "    print(\"Perplexity API Key not set\")"
   ]
  },
  {
   "cell_type": "markdown",
   "id": "6a34d454-7288-40eb-b351-968a44a1cbbe",
   "metadata": {},
   "source": [
    "|Model\t              |Context Length |\n",
    "|---------------------|---------------|\n",
    "|sonar-reasoning-pro  |\t127k          |\n",
    "|sonar-reasoning\t  | 127k          |\n",
    "|sonar-pro\t          |200k\t          |\n",
    "|sonar\t              |127k\t          |\n"
   ]
  },
  {
   "cell_type": "code",
   "execution_count": 69,
   "id": "67eb0a2c-6a2f-4fce-ba70-e806cfab4855",
   "metadata": {},
   "outputs": [],
   "source": [
    "from openai import OpenAI\n",
    "perplexity_client = OpenAI(api_key=perplexity_api_key, base_url=\"https://api.perplexity.ai\")\n",
    "MODEL = 'sonar-pro'\n",
    "max_tokens=4096\n",
    "temperature=0"
   ]
  },
  {
   "cell_type": "markdown",
   "id": "aba9ce13-4cbf-46bc-98fc-fde0de5206af",
   "metadata": {},
   "source": [
    "## perplexity API example"
   ]
  },
  {
   "cell_type": "code",
   "execution_count": 7,
   "id": "1b61831d-ec52-407c-89e3-e76cf8c82dea",
   "metadata": {},
   "outputs": [],
   "source": [
    "\n",
    "messages = [\n",
    "    {\n",
    "        \"role\": \"system\",\n",
    "        \"content\": (\n",
    "            \"You are an artificial intelligence assistant and you need to \"\n",
    "            \"engage in a helpful, detailed, polite conversation with a user.\"\n",
    "        ),\n",
    "    },\n",
    "    {   \n",
    "        \"role\": \"user\",\n",
    "        \"content\": (\n",
    "            \"How many stars are in the universe?\"\n",
    "        ),\n",
    "    },\n",
    "]\n",
    "\n",
    "\n",
    "# chat completion without streaming\n",
    "response = perplexity_client.chat.completions.create(\n",
    "    model=MODEL,\n",
    "    messages=messages,\n",
    ")\n",
    "#print(response)\n",
    "\n",
    "# # chat completion with streaming\n",
    "# response_stream = client.chat.completions.create(\n",
    "#     model=\"sonar-pro\",\n",
    "#     messages=messages,\n",
    "#     stream=True,\n",
    "# )\n",
    "# for response in response_stream:\n",
    "#     print(response)\n"
   ]
  },
  {
   "cell_type": "code",
   "execution_count": 8,
   "id": "de9d8387-c19f-4d71-be4d-15e75fcc70a8",
   "metadata": {},
   "outputs": [
    {
     "data": {
      "text/plain": [
       "{'id': 'baef9c5b-f737-4d39-b3e5-ddaf97f96469',\n",
       " 'choices': [{'finish_reason': 'stop',\n",
       "   'index': 0,\n",
       "   'message': {'content': \"Hello I'm glad you're interested in learning about the number of stars in the universe. Estimating this number is quite complex, as it involves understanding the vastness of the cosmos and the limitations of our current observational capabilities.\\n\\n### Current Estimates\\n\\nAstronomers have made several estimates based on observations and simulations. Here are a few key points:\\n\\n1. **Observable Universe**: The observable universe is the part of the universe we can see, limited by how far light has had time to travel since the Big Bang. Estimates for the number of stars in the observable universe vary widely:\\n   - Some sources suggest there are approximately **200 billion trillion** (200 sextillion) stars[2][4].\\n   - Others estimate around **70 billion trillion** (7 x 10^22) stars[3].\\n\\n2. **Galaxies and Stars**: The number of galaxies in the observable universe is estimated to be around **2 trillion**[4]. If we assume each galaxy has about 100 billion stars (similar to the Milky Way), we can estimate the total number of stars. However, this method might overestimate, as not all galaxies are as large as the Milky Way[5].\\n\\n3. **Milky Way**: Our own galaxy, the Milky Way, is thought to contain between **100 billion and 400 billion stars**[1][5].\\n\\n### Challenges in Estimation\\n\\n- **Observational Limitations**: We can only observe objects within a certain distance from Earth, as light from farther objects hasn't had time to reach us yet.\\n- **Variability Among Galaxies**: Galaxies vary greatly in size and star content, making it difficult to use a single galaxy as a representative model.\\n- **Stellar Lifecycles**: Stars are born and die over cosmic time, affecting the total number of stars at any given moment.\\n\\nIn summary, while we don't have an exact count, estimates suggest there are tens to hundreds of sextillion stars in the observable universe. However, these numbers are subject to change as our understanding and observational capabilities improve.\",\n",
       "    'role': 'assistant'},\n",
       "   'delta': {'role': 'assistant', 'content': ''}}],\n",
       " 'created': 1739090069,\n",
       " 'model': 'sonar',\n",
       " 'object': 'chat.completion',\n",
       " 'usage': {'completion_tokens': 418, 'prompt_tokens': 31, 'total_tokens': 449},\n",
       " 'citations': ['https://www.esa.int/Science_Exploration/Space_Science/Herschel/How_many_stars_are_there_in_the_Universe',\n",
       "  'https://www.littlepassports.com/blog/space/how-many-stars-are-in-the-universe/',\n",
       "  'https://skyandtelescope.org/astronomy-resources/how-many-stars-are-there/',\n",
       "  'https://education.cosmosmagazine.com/how-many-stars-are-there-in-space/',\n",
       "  'https://bigthink.com/starts-with-a-bang/overestimated-stars-in-universe/']}"
      ]
     },
     "execution_count": 8,
     "metadata": {},
     "output_type": "execute_result"
    }
   ],
   "source": [
    "response.to_dict()"
   ]
  },
  {
   "cell_type": "code",
   "execution_count": 10,
   "id": "29b9edd8-3965-4968-9b9e-f03411cb8d36",
   "metadata": {},
   "outputs": [
    {
     "data": {
      "text/markdown": [
       "Hello I'm glad you're interested in learning about the number of stars in the universe. Estimating this number is quite complex, as it involves understanding the vastness of the cosmos and the limitations of our current observational capabilities.\n",
       "\n",
       "### Current Estimates\n",
       "\n",
       "Astronomers have made several estimates based on observations and simulations. Here are a few key points:\n",
       "\n",
       "1. **Observable Universe**: The observable universe is the part of the universe we can see, limited by how far light has had time to travel since the Big Bang. Estimates for the number of stars in the observable universe vary widely:\n",
       "   - Some sources suggest there are approximately **200 billion trillion** (200 sextillion) stars[2][4].\n",
       "   - Others estimate around **70 billion trillion** (7 x 10^22) stars[3].\n",
       "\n",
       "2. **Galaxies and Stars**: The number of galaxies in the observable universe is estimated to be around **2 trillion**[4]. If we assume each galaxy has about 100 billion stars (similar to the Milky Way), we can estimate the total number of stars. However, this method might overestimate, as not all galaxies are as large as the Milky Way[5].\n",
       "\n",
       "3. **Milky Way**: Our own galaxy, the Milky Way, is thought to contain between **100 billion and 400 billion stars**[1][5].\n",
       "\n",
       "### Challenges in Estimation\n",
       "\n",
       "- **Observational Limitations**: We can only observe objects within a certain distance from Earth, as light from farther objects hasn't had time to reach us yet.\n",
       "- **Variability Among Galaxies**: Galaxies vary greatly in size and star content, making it difficult to use a single galaxy as a representative model.\n",
       "- **Stellar Lifecycles**: Stars are born and die over cosmic time, affecting the total number of stars at any given moment.\n",
       "\n",
       "In summary, while we don't have an exact count, estimates suggest there are tens to hundreds of sextillion stars in the observable universe. However, these numbers are subject to change as our understanding and observational capabilities improve."
      ],
      "text/plain": [
       "<IPython.core.display.Markdown object>"
      ]
     },
     "metadata": {},
     "output_type": "display_data"
    }
   ],
   "source": [
    "display(Markdown(response.choices[0].message.content))"
   ]
  },
  {
   "cell_type": "code",
   "execution_count": 81,
   "id": "16c305ab-8d6a-4926-b412-41e8dd232687",
   "metadata": {},
   "outputs": [],
   "source": [
    "def get_messages(x, template_prompt, placeholders_map):\n",
    "    ''' get messages based on a line in the gff DF \n",
    "        x : tuple - a line from the dataframe\n",
    "        columns2placeholders - dict mapping colum names to placeholders in the prompt\n",
    "    '''\n",
    "    user_prompt = template_prompt\n",
    "    for k,v in placeholders_map.items():\n",
    "        user_prompt = user_prompt.replace(k, x[v])\n",
    "        \n",
    "    messages=[\n",
    "        {\n",
    "            \"role\": \"user\",\n",
    "            \"content\": [\n",
    "                {\n",
    "                    \"type\": \"text\",\n",
    "                    \"text\": user_prompt,\n",
    "                }\n",
    "            ]\n",
    "        },\n",
    "        # {\n",
    "        #     \"role\": \"assistant\",\n",
    "        #     \"content\": [\n",
    "        #         {\n",
    "        #             \"type\": \"text\",\n",
    "        #             \"text\": \"<literature_review>\"\n",
    "        #         }\n",
    "        #     ]\n",
    "        # }\n",
    "    ]\n",
    "    return messages\n",
    "    "
   ]
  },
  {
   "cell_type": "code",
   "execution_count": 39,
   "id": "c9659c76-f5bf-4516-ad9d-d9cefb8a42e3",
   "metadata": {},
   "outputs": [],
   "source": [
    "def get_messages_system_unstructured(x, template_prompt, placeholders_map):\n",
    "    ''' get messages based on a line in the gff DF \n",
    "        x : tuple - a line from the dataframe\n",
    "        columns2placeholders - dict mapping colum names to placeholders in the prompt\n",
    "    '''\n",
    "    user_prompt = template_prompt\n",
    "    for k,v in placeholders_map.items():\n",
    "        user_prompt = user_prompt.replace(k, x[v])\n",
    "        \n",
    "    messages=[\n",
    "        {\n",
    "            \"role\": \"user\",\n",
    "            \"content\": [\n",
    "                {\n",
    "                    \"type\": \"text\",\n",
    "                    \"text\": user_prompt,\n",
    "                }\n",
    "            ]\n",
    "        },\n",
    "    ]\n",
    "    return messages\n",
    "    "
   ]
  },
  {
   "cell_type": "markdown",
   "id": "9379305b-55cf-4db0-bc29-88c9e30ce1b7",
   "metadata": {},
   "source": [
    "# Load list of MED4 genes"
   ]
  },
  {
   "cell_type": "code",
   "execution_count": 12,
   "id": "a211c83e-41c2-4e93-afde-00ab794edc5d",
   "metadata": {},
   "outputs": [
    {
     "data": {
      "text/plain": [
       "['cds_from_genomic.fna',\n",
       " 'GCF_000011465.1_ASM1146v1_genomic.fna',\n",
       " 'GCF_000011465.1_ASM1146v1_genomic.fna.fai',\n",
       " 'genomic.gbff',\n",
       " 'genomic.gff',\n",
       " 'genomic.gtf',\n",
       " 'MED4.bed',\n",
       " 'MED4_biocyc_pathways.txt',\n",
       " 'MED4_named_genes_NCBI.csv',\n",
       " 'MED4_pathways.csv',\n",
       " 'MED4_PMM2locus.csv',\n",
       " 'MED4_protein.faa',\n",
       " 'MED4_user_ko.txt',\n",
       " 'Pro_MED4.gff',\n",
       " 'README.get_pmm',\n",
       " 'sequence_report.jsonl',\n",
       " 'uniprot-taxonomy-59919.tab']"
      ]
     },
     "execution_count": 12,
     "metadata": {},
     "output_type": "execute_result"
    }
   ],
   "source": [
    "med4_genome_dpath = '../genomes/MED4'\n",
    "os.listdir(med4_genome_dpath)"
   ]
  },
  {
   "cell_type": "code",
   "execution_count": 13,
   "id": "4b2adfac-79bb-4257-8a73-f4d1beff368a",
   "metadata": {},
   "outputs": [],
   "source": [
    "import gffpandas.gffpandas as gffpd"
   ]
  },
  {
   "cell_type": "code",
   "execution_count": 14,
   "id": "deb84196-98e8-4de9-bee3-cf256ece4fa4",
   "metadata": {},
   "outputs": [],
   "source": [
    "annotation = gffpd.read_gff3(os.path.join(med4_genome_dpath, 'genomic.gff'))"
   ]
  },
  {
   "cell_type": "code",
   "execution_count": 15,
   "id": "d06f53a5-e17f-449c-9e7e-ae86db2d2d8b",
   "metadata": {},
   "outputs": [],
   "source": [
    "gff_df = annotation.filter_feature_of_type(['CDS']).attributes_to_columns()"
   ]
  },
  {
   "cell_type": "code",
   "execution_count": 16,
   "id": "b801f44d-6eab-4188-a632-b88284fbb7e7",
   "metadata": {},
   "outputs": [],
   "source": [
    "gff_columns = [#'phase','Name', 'Note', 'exception', 'gbkey', 'inference', 'partial','pseudo',\n",
    "               'gene_name', 'gene', 'locus_tag', \n",
    "       'product', 'protein_id', ]\n",
    "#gff_df[gff_columns]"
   ]
  },
  {
   "cell_type": "code",
   "execution_count": 17,
   "id": "b94595b8-c16e-4ad8-8e5c-d9c24e9bc6b0",
   "metadata": {},
   "outputs": [],
   "source": [
    "mask = gff_df.gene.isna()\n",
    "gff_df.loc[mask, 'gene_name'] = gff_df.loc[mask, 'locus_tag'] \n",
    "gff_df.loc[~mask, 'gene_name'] =gff_df.loc[~mask, 'gene'] + ' , ' + gff_df.loc[~mask, 'locus_tag'] "
   ]
  },
  {
   "cell_type": "code",
   "execution_count": 18,
   "id": "1de82b9e-bbb0-47ac-9479-455de6af94ee",
   "metadata": {},
   "outputs": [
    {
     "data": {
      "text/html": [
       "<div>\n",
       "<style scoped>\n",
       "    .dataframe tbody tr th:only-of-type {\n",
       "        vertical-align: middle;\n",
       "    }\n",
       "\n",
       "    .dataframe tbody tr th {\n",
       "        vertical-align: top;\n",
       "    }\n",
       "\n",
       "    .dataframe thead th {\n",
       "        text-align: right;\n",
       "    }\n",
       "</style>\n",
       "<table border=\"1\" class=\"dataframe\">\n",
       "  <thead>\n",
       "    <tr style=\"text-align: right;\">\n",
       "      <th></th>\n",
       "      <th>gene_name</th>\n",
       "      <th>gene</th>\n",
       "      <th>locus_tag</th>\n",
       "      <th>product</th>\n",
       "      <th>protein_id</th>\n",
       "    </tr>\n",
       "  </thead>\n",
       "  <tbody>\n",
       "    <tr>\n",
       "      <th>2</th>\n",
       "      <td>dnaN , TX50_RS00020</td>\n",
       "      <td>dnaN</td>\n",
       "      <td>TX50_RS00020</td>\n",
       "      <td>DNA polymerase III subunit beta</td>\n",
       "      <td>WP_011131639.1</td>\n",
       "    </tr>\n",
       "    <tr>\n",
       "      <th>4</th>\n",
       "      <td>TX50_RS00025</td>\n",
       "      <td>None</td>\n",
       "      <td>TX50_RS00025</td>\n",
       "      <td>hypothetical protein</td>\n",
       "      <td>WP_011131640.1</td>\n",
       "    </tr>\n",
       "    <tr>\n",
       "      <th>6</th>\n",
       "      <td>purL , TX50_RS00030</td>\n",
       "      <td>purL</td>\n",
       "      <td>TX50_RS00030</td>\n",
       "      <td>phosphoribosylformylglycinamidine synthase sub...</td>\n",
       "      <td>WP_011131641.1</td>\n",
       "    </tr>\n",
       "    <tr>\n",
       "      <th>8</th>\n",
       "      <td>purF , TX50_RS00035</td>\n",
       "      <td>purF</td>\n",
       "      <td>TX50_RS00035</td>\n",
       "      <td>amidophosphoribosyltransferase</td>\n",
       "      <td>WP_011131642.1</td>\n",
       "    </tr>\n",
       "    <tr>\n",
       "      <th>10</th>\n",
       "      <td>TX50_RS00040</td>\n",
       "      <td>None</td>\n",
       "      <td>TX50_RS00040</td>\n",
       "      <td>DNA topoisomerase 4 subunit A</td>\n",
       "      <td>WP_011131643.1</td>\n",
       "    </tr>\n",
       "    <tr>\n",
       "      <th>...</th>\n",
       "      <td>...</td>\n",
       "      <td>...</td>\n",
       "      <td>...</td>\n",
       "      <td>...</td>\n",
       "      <td>...</td>\n",
       "    </tr>\n",
       "    <tr>\n",
       "      <th>3856</th>\n",
       "      <td>uvrA , TX50_RS09140</td>\n",
       "      <td>uvrA</td>\n",
       "      <td>TX50_RS09140</td>\n",
       "      <td>excinuclease ABC subunit UvrA</td>\n",
       "      <td>WP_011133339.1</td>\n",
       "    </tr>\n",
       "    <tr>\n",
       "      <th>3858</th>\n",
       "      <td>TX50_RS09145</td>\n",
       "      <td>None</td>\n",
       "      <td>TX50_RS09145</td>\n",
       "      <td>AAA family ATPase</td>\n",
       "      <td>WP_011133340.1</td>\n",
       "    </tr>\n",
       "    <tr>\n",
       "      <th>3860</th>\n",
       "      <td>TX50_RS09150</td>\n",
       "      <td>None</td>\n",
       "      <td>TX50_RS09150</td>\n",
       "      <td>AarF/ABC1/UbiB kinase family protein</td>\n",
       "      <td>WP_011133341.1</td>\n",
       "    </tr>\n",
       "    <tr>\n",
       "      <th>3862</th>\n",
       "      <td>TX50_RS09155</td>\n",
       "      <td>None</td>\n",
       "      <td>TX50_RS09155</td>\n",
       "      <td>alpha/beta hydrolase</td>\n",
       "      <td>WP_011133342.1</td>\n",
       "    </tr>\n",
       "    <tr>\n",
       "      <th>3864</th>\n",
       "      <td>thrC , TX50_RS09160</td>\n",
       "      <td>thrC</td>\n",
       "      <td>TX50_RS09160</td>\n",
       "      <td>threonine synthase</td>\n",
       "      <td>WP_011133343.1</td>\n",
       "    </tr>\n",
       "  </tbody>\n",
       "</table>\n",
       "<p>1866 rows × 5 columns</p>\n",
       "</div>"
      ],
      "text/plain": [
       "                gene_name  gene     locus_tag  \\\n",
       "2     dnaN , TX50_RS00020  dnaN  TX50_RS00020   \n",
       "4            TX50_RS00025  None  TX50_RS00025   \n",
       "6     purL , TX50_RS00030  purL  TX50_RS00030   \n",
       "8     purF , TX50_RS00035  purF  TX50_RS00035   \n",
       "10           TX50_RS00040  None  TX50_RS00040   \n",
       "...                   ...   ...           ...   \n",
       "3856  uvrA , TX50_RS09140  uvrA  TX50_RS09140   \n",
       "3858         TX50_RS09145  None  TX50_RS09145   \n",
       "3860         TX50_RS09150  None  TX50_RS09150   \n",
       "3862         TX50_RS09155  None  TX50_RS09155   \n",
       "3864  thrC , TX50_RS09160  thrC  TX50_RS09160   \n",
       "\n",
       "                                                product      protein_id  \n",
       "2                       DNA polymerase III subunit beta  WP_011131639.1  \n",
       "4                                  hypothetical protein  WP_011131640.1  \n",
       "6     phosphoribosylformylglycinamidine synthase sub...  WP_011131641.1  \n",
       "8                        amidophosphoribosyltransferase  WP_011131642.1  \n",
       "10                        DNA topoisomerase 4 subunit A  WP_011131643.1  \n",
       "...                                                 ...             ...  \n",
       "3856                      excinuclease ABC subunit UvrA  WP_011133339.1  \n",
       "3858                                  AAA family ATPase  WP_011133340.1  \n",
       "3860               AarF/ABC1/UbiB kinase family protein  WP_011133341.1  \n",
       "3862                               alpha/beta hydrolase  WP_011133342.1  \n",
       "3864                                 threonine synthase  WP_011133343.1  \n",
       "\n",
       "[1866 rows x 5 columns]"
      ]
     },
     "execution_count": 18,
     "metadata": {},
     "output_type": "execute_result"
    }
   ],
   "source": [
    "gff_df[gff_columns]"
   ]
  },
  {
   "cell_type": "code",
   "execution_count": 19,
   "id": "5be9205d-7b63-4a06-ac33-0b831961f799",
   "metadata": {},
   "outputs": [],
   "source": [
    "gff_named_df = gff_df.loc[~gff_df.gene.isna(), gff_columns].drop_duplicates()"
   ]
  },
  {
   "cell_type": "code",
   "execution_count": 20,
   "id": "4e4c2aac-941f-463a-b804-4971cd6939c7",
   "metadata": {},
   "outputs": [],
   "source": [
    "gff_named_df.to_csv(os.path.join(med4_genome_dpath, 'MED4_named_genes_NCBI.csv'), index=False)"
   ]
  },
  {
   "cell_type": "code",
   "execution_count": 21,
   "id": "eb7b24ac-de5a-4e19-93eb-6e9891379a01",
   "metadata": {},
   "outputs": [],
   "source": [
    "placeholders_map = {\n",
    "    '{{GENE_NAME}}' : 'gene_name',\n",
    "    '{{GENE_PRODUCT}}' : 'product',\n",
    "    '{{GENE_PROTEIN_ID}}' : 'protein_id',\n",
    "}"
   ]
  },
  {
   "cell_type": "markdown",
   "id": "49c36771-0f62-49e8-9dd4-d871884f186d",
   "metadata": {},
   "source": [
    "# Example"
   ]
  },
  {
   "cell_type": "code",
   "execution_count": 22,
   "id": "f17100a0-9224-49b8-96a1-60934f6655ec",
   "metadata": {},
   "outputs": [
    {
     "data": {
      "text/plain": [
       "gene_name                         pstA , TX50_RS03870\n",
       "gene                                             pstA\n",
       "locus_tag                                TX50_RS03870\n",
       "product       phosphate ABC transporter permease PstA\n",
       "protein_id                             WP_011132358.1\n",
       "Name: 1621, dtype: object"
      ]
     },
     "execution_count": 22,
     "metadata": {},
     "output_type": "execute_result"
    }
   ],
   "source": [
    "gff_df.loc[gff_df.gene.isin(['pstA']), gff_columns].squeeze()"
   ]
  },
  {
   "cell_type": "code",
   "execution_count": 74,
   "id": "d2e1069e-3c9f-40ed-9fb2-0a5b2216c816",
   "metadata": {},
   "outputs": [],
   "source": [
    "template_prompt = short_prompt_unstructured # _unstructured_from_copilot\n",
    "template_prompt = prompt_build_gene_entry"
   ]
  },
  {
   "cell_type": "code",
   "execution_count": 60,
   "id": "f6b776ae-7987-4197-8083-f6a03785c89f",
   "metadata": {},
   "outputs": [
    {
     "data": {
      "text/plain": [
       "[{'role': 'user',\n",
       "  'content': [{'type': 'text',\n",
       "    'text': \"\\ngive me an overview of the gene pstA , TX50_RS03870 (phosphate ABC transporter permease PstA) in prochlorococcus med4. \\nSpecifically its general function, its role in stress response and its potential role in coculture with heterotrophic bacteria, \\nand in nutrient uptake and exchange with heterotrophic bacteria.\\nRemember to rely solely on published research and factual information. If you don't have information on a specific aspect of the gene or topic, clearly state this in the relevant section. End the section with a list of references in standard format, Use citations in the format [Author, Year] throughout your response.\\n\"}]}]"
      ]
     },
     "execution_count": 60,
     "metadata": {},
     "output_type": "execute_result"
    }
   ],
   "source": [
    "x = gff_df.loc[gff_df.gene.isin(['pstA']), gff_columns].squeeze()\n",
    "\n",
    "get_messages_system_unstructured(x, template_prompt, placeholders_map)"
   ]
  },
  {
   "cell_type": "code",
   "execution_count": 68,
   "id": "75dd8143-8409-4da4-bae9-79db9ebe57ca",
   "metadata": {},
   "outputs": [
    {
     "name": "stdout",
     "output_type": "stream",
     "text": [
      "[{'role': 'user', 'content': [{'type': 'text', 'text': \"\\ngive me an overview of the gene pstA , TX50_RS03870 (phosphate ABC transporter permease PstA) in prochlorococcus med4. \\nSpecifically its general function, its role in stress response and its potential role in coculture with heterotrophic bacteria, \\nand in nutrient uptake and exchange with heterotrophic bacteria.\\nRemember to rely solely on published research and factual information. If you don't have information on a specific aspect of the gene or topic, clearly state this in the relevant section. End the section with a list of references in standard format, Use citations in the format [Author, Year] throughout your response.\\n\"}]}]\n",
      "\n",
      "give me an overview of the gene pstA , TX50_RS03870 (phosphate ABC transporter permease PstA) in prochlorococcus med4. \n",
      "Specifically its general function, its role in stress response and its potential role in coculture with heterotrophic bacteria, \n",
      "and in nutrient uptake and exchange with heterotrophic bacteria.\n",
      "Remember to rely solely on published research and factual information. If you don't have information on a specific aspect of the gene or topic, clearly state this in the relevant section. End the section with a list of references in standard format, Use citations in the format [Author, Year] throughout your response.\n",
      "\n"
     ]
    }
   ],
   "source": [
    "print(get_messages_system_unstructured(x, template_prompt, placeholders_map))\n",
    "print(\"\\ngive me an overview of the gene pstA , TX50_RS03870 (phosphate ABC transporter permease PstA) in prochlorococcus med4. \\nSpecifically its general function, its role in stress response and its potential role in coculture with heterotrophic bacteria, \\nand in nutrient uptake and exchange with heterotrophic bacteria.\\nRemember to rely solely on published research and factual information. If you don't have information on a specific aspect of the gene or topic, clearly state this in the relevant section. End the section with a list of references in standard format, Use citations in the format [Author, Year] throughout your response.\\n\")"
   ]
  },
  {
   "cell_type": "code",
   "execution_count": 82,
   "id": "3bb949c2-b844-484f-932a-6b6cc656bbba",
   "metadata": {},
   "outputs": [],
   "source": [
    "\n",
    "# Replace placeholders like {{GENE_NAME}} with real values,\n",
    "# because the SDK does not support variables.\n",
    "response = perplexity_client.chat.completions.create(\n",
    "    model=MODEL,\n",
    "    messages=get_messages(x, template_prompt, placeholders_map),\n",
    "    \n",
    "    max_tokens=max_tokens,\n",
    "    temperature=temperature,\n",
    ")\n",
    "\n"
   ]
  },
  {
   "cell_type": "code",
   "execution_count": 83,
   "id": "69365ec1-1f0d-4797-ae0b-fe01d9dfa6b7",
   "metadata": {},
   "outputs": [],
   "source": [
    "#response"
   ]
  },
  {
   "cell_type": "code",
   "execution_count": 87,
   "id": "ecc73a0c-9b40-46b1-8d6f-d7e8c3b6e65c",
   "metadata": {},
   "outputs": [
    {
     "name": "stdout",
     "output_type": "stream",
     "text": [
      "<research_process>\n",
      "\n",
      "1. Key search terms and databases:\n",
      "- Databases: PubMed, Web of Science, Google Scholar\n",
      "- Search terms: \"Prochlorococcus pstA\", \"phosphate ABC transporter permease PstA\", \"Prochlorococcus phosphate transport\", \"Prochlorococcus pst operon\", \"Prochlorococcus phosphate limitation\"\n",
      "\n",
      "2. Overview of available literature:\n",
      "- Number of relevant papers: Approximately 20-25 directly relevant papers\n",
      "- Date range: 2000-2025\n",
      "- Main research focuses: Phosphate transport in Prochlorococcus, gene expression under phosphate limitation, ABC transporter function in cyanobacteria\n",
      "\n",
      "3. Summaries of key sources:\n",
      "\n",
      "[Martiny et al., 2006] Analyzed Prochlorococcus genomes and found that pstA is part of the pst operon, which is present in all sequenced strains. The operon is upregulated under phosphate limitation.\n",
      "\n",
      "[Scanlan et al., 2009] Reviewed phosphate acquisition in marine cyanobacteria, including Prochlorococcus. PstA is described as a critical component of the high-affinity phosphate uptake system.\n",
      "\n",
      "[Lin et al., 2016] Studied the interplay between cyanophage and host phosphate uptake systems. Found that host pstA expression decreased during infection under phosphate-limited conditions.\n",
      "\n",
      "[Osburne et al., 2011] Investigated phosphite utilization in Prochlorococcus MIT9301. While not directly studying pstA, this research provides context for alternative phosphorus acquisition strategies in Prochlorococcus.\n",
      "\n",
      "[Zeng and Chisholm, 2012] Examined gene expression in Prochlorococcus during cyanophage infection under phosphate-limited conditions. pstA expression was affected by both phosphate limitation and phage infection.\n",
      "\n",
      "4. Challenges or limitations:\n",
      "- Limited studies focusing specifically on pstA in Prochlorococcus\n",
      "- Most research considers the entire pst operon rather than individual genes\n",
      "\n",
      "5. Conflicting information or gaps:\n",
      "- Limited information on pstA expression in different Prochlorococcus ecotypes\n",
      "- Lack of detailed structural studies on Prochlorococcus PstA protein\n",
      "\n",
      "6. Initial observations:\n",
      "- pstA is a critical component of the high-affinity phosphate uptake system in Prochlorococcus\n",
      "- Its expression is tightly regulated by phosphate availability\n",
      "- The gene appears to be conserved across Prochlorococcus strains\n",
      "\n",
      "7. Key themes and patterns:\n",
      "- pstA is part of a larger phosphate acquisition system\n",
      "- Expression is strongly influenced by environmental phosphate levels\n",
      "- The gene plays a role in Prochlorococcus-cyanophage interactions\n",
      "\n",
      "8. Potential implications:\n",
      "- pstA may be a key factor in Prochlorococcus adaptation to low-phosphate environments\n",
      "- Understanding pstA regulation could provide insights into Prochlorococcus niche partitioning\n",
      "- The gene could be a target for studying Prochlorococcus-virus co-evolution\n",
      "\n",
      "</research_process>\n",
      "\n",
      "<database_entry>\n",
      "  <primary_function>\n",
      "    The pstA gene in Prochlorococcus encodes a permease protein that is a critical component of the high-affinity phosphate ABC transporter system. It functions as part of the PstSCAB complex, which is responsible for the uptake of inorganic phosphate across the cell membrane under low phosphate conditions[Scanlan et al., 2009].\n",
      "    <conservation>This function appears to be highly conserved across all known Prochlorococcus strains, as the pst operon has been identified in all sequenced genomes[Martiny et al., 2006].</conservation>\n",
      "  </primary_function>\n",
      "\n",
      "  <physiological_contribution>\n",
      "    PstA contributes significantly to Prochlorococcus' ability to thrive in oligotrophic environments where phosphate is often a limiting nutrient. By enabling efficient phosphate uptake, it plays a crucial role in maintaining cellular phosphorus homeostasis, which is essential for various cellular processes including DNA replication, RNA synthesis, and energy metabolism[Scanlan et al., 2009].\n",
      "    <conservation>This physiological contribution is likely conserved across Prochlorococcus ecotypes, given the ubiquitous presence of the pst operon and the universal requirement for phosphate in cellular functions[Martiny et al., 2006].</conservation>\n",
      "  </physiological_contribution>\n",
      "\n",
      "  <stress_responses>\n",
      "    <response1>\n",
      "      Under phosphate limitation, the expression of pstA is significantly upregulated as part of the Pho regulon, enabling more efficient phosphate scavenging[Martiny et al., 2006].\n",
      "      <conservation>This response appears to be conserved across Prochlorococcus strains, although the magnitude of upregulation may vary between ecotypes[Scanlan et al., 2009].</conservation>\n",
      "    </response1>\n",
      "    <response2>\n",
      "      During cyanophage infection under phosphate-limited conditions, host pstA expression is altered, potentially as part of a complex interaction between host and phage phosphate acquisition systems[Lin et al., 2016].\n",
      "      <conservation>This response has been observed in multiple Prochlorococcus strains, suggesting conservation, but more research is needed to confirm its universality[Zeng and Chisholm, 2012].</conservation>\n",
      "    </response2>\n",
      "  </stress_responses>\n",
      "\n",
      "  <uptake_exudation>\n",
      "    <uptake>\n",
      "      PstA is directly involved in the uptake of inorganic phosphate. As part of the PstSCAB complex, it forms a channel through which phosphate ions are transported into the cell[Scanlan et al., 2009].\n",
      "      <conservation>This uptake process is highly conserved across Prochlorococcus strains and other cyanobacteria, reflecting the fundamental importance of phosphate acquisition[Martiny et al., 2006].</conservation>\n",
      "    </uptake>\n",
      "    <exudation>\n",
      "      There is no direct evidence of PstA involvement in exudation processes. Its primary role appears to be in uptake rather than export.\n",
      "      <conservation>The lack of exudation function seems consistent across studied Prochlorococcus strains.</conservation>\n",
      "    </exudation>\n",
      "  </uptake_exudation>\n",
      "\n",
      "  <phylogenetic_persistence>\n",
      "    The pstA gene shows high phylogenetic persistence across all known Prochlorococcus ecotypes. It is part of the core genome of Prochlorococcus and is also found in other cyanobacteria and many other bacterial species. The high conservation of this gene across diverse phylogenetic groups underscores its fundamental importance in phosphate acquisition[Martiny et al., 2006][Scanlan et al., 2009].\n",
      "  </phylogenetic_persistence>\n",
      "\n",
      "  <coculture_role>\n",
      "    Specific information about pstA expression changes in coculture with heterotrophic bacteria is limited. However, given that heterotrophic bacteria can compete for phosphate and potentially alter the phosphate availability in the environment, it is plausible that pstA expression could be affected in coculture conditions.\n",
      "    <conservation>While the general importance of phosphate acquisition in coculture is likely conserved, specific responses of pstA in these conditions require further research across different Prochlorococcus strains.</conservation>\n",
      "  </coculture_role>\n",
      "\n",
      "  <references>\n",
      "    <ref1>Martiny, A.C., Coleman, M.L. and Chisholm, S.W., 2006. Phosphate acquisition genes in Prochlorococcus ecotypes: evidence for genome-wide adaptation. Proceedings of the National Academy of Sciences, 103(33), pp.12552-12557.</ref1>\n",
      "    <ref2>Scanlan, D.J., Ostrowski, M., Mazard, S., Dufresne, A., Garczarek, L., Hess, W.R., Post, A.F., Hagemann, M., Paulsen, I. and Partensky, F., 2009. Ecological genomics of marine picocyanobacteria. Microbiology and Molecular Biology Reviews, 73(2), pp.249-299.</ref2>\n",
      "    <ref3>Lin, X., Ding, H. and Zeng, Q., 2016. Transcriptomic response during phage infection of a marine cyanobacterium under phosphorus-limited conditions. Environmental microbiology, 18(2), pp.450-460.</ref3>\n",
      "    <ref4>Osburne, M.S., Holmbeck, B.M., Coe, A., Chisholm, S.W., 2011. The genome sequences of three Prochlorococcus cyanophages show they are related to T7-like phages. Environmental Microbiology Reports, 3(2), pp.251-257.</ref4>\n",
      "    <ref5>Zeng, Q. and Chisholm, S.W., 2012. Marine viruses exploit their host's two-component regulatory system in response to resource limitation. Current Biology, 22(2), pp.124-128.</ref5>\n",
      "  </references>\n",
      "</database_entry>\n"
     ]
    }
   ],
   "source": [
    "#display(Markdown(response.choices[0].message.content))\n",
    "print(response.choices[0].message.content)"
   ]
  },
  {
   "cell_type": "code",
   "execution_count": 88,
   "id": "14ba11b4-c330-48a8-9b32-a25d19dbe8d1",
   "metadata": {},
   "outputs": [
    {
     "data": {
      "text/plain": [
       "['https://www.biorxiv.org/content/10.1101/2021.07.20.453049v1.full.pdf',\n",
       " 'https://onlinelibrary.wiley.com/doi/10.1111/j.1462-2920.2011.02612.x',\n",
       " 'https://eprints.soton.ac.uk/436684/1/Carter_Gates_Michael_PhD_Thesis_Dec_2019.pdf',\n",
       " 'https://pubmed.ncbi.nlm.nih.gov/19187282/',\n",
       " 'https://string-db.org/network/167539.Pro_0596',\n",
       " 'https://www.researchgate.net/publication/268987175_Prochlorococcus_The_structure_and_function_of_collective_diversity',\n",
       " 'https://www.uniprot.org/uniprotkb/Q7VCZ3/entry',\n",
       " 'https://string-db.org/network/59920.PMN2A_0309',\n",
       " 'https://www.science.org/doi/10.1126/sciadv.adp1949',\n",
       " 'https://journals.asm.org/doi/10.1128/AEM.01178-18']"
      ]
     },
     "execution_count": 88,
     "metadata": {},
     "output_type": "execute_result"
    }
   ],
   "source": [
    "response.citations"
   ]
  },
  {
   "cell_type": "code",
   "execution_count": 86,
   "id": "512f79a9-2c62-42f4-bc29-bd701a9c7b6f",
   "metadata": {},
   "outputs": [
    {
     "name": "stdout",
     "output_type": "stream",
     "text": [
      "{\n",
      "  \"id\": \"1131a9fd-f31c-4f27-a901-2e09381d66d3\",\n",
      "  \"choices\": [\n",
      "    {\n",
      "      \"finish_reason\": \"stop\",\n",
      "      \"index\": 0,\n",
      "      \"message\": {\n",
      "        \"content\": \"<research_process>\\n\\n1. Key search terms and databases:\\n- Databases: PubMed, Web of Science, Google Scholar\\n- Search terms: \\\"Prochlorococcus pstA\\\", \\\"phosphate ABC transporter permease PstA\\\", \\\"Prochlorococcus phosphate transport\\\", \\\"Prochlorococcus pst operon\\\", \\\"Prochlorococcus phosphate limitation\\\"\\n\\n2. Overview of available literature:\\n- Number of relevant papers: Approximately 20-25 directly relevant papers\\n- Date range: 2000-2025\\n- Main research focuses: Phosphate transport in Prochlorococcus, gene expression under phosphate limitation, ABC transporter function in cyanobacteria\\n\\n3. Summaries of key sources:\\n\\n[Martiny et al., 2006] Analyzed Prochlorococcus genomes and found that pstA is part of the pst operon, which is present in all sequenced strains. The operon is upregulated under phosphate limitation.\\n\\n[Scanlan et al., 2009] Reviewed phosphate acquisition in marine cyanobacteria, including Prochlorococcus. PstA is described as a critical component of the high-affinity phosphate uptake system.\\n\\n[Lin et al., 2016] Studied the interplay between cyanophage and host phosphate uptake systems. Found that host pstA expression decreased during infection under phosphate-limited conditions.\\n\\n[Osburne et al., 2011] Investigated phosphite utilization in Prochlorococcus MIT9301. While not directly studying pstA, this research provides context for alternative phosphorus acquisition strategies in Prochlorococcus.\\n\\n[Zeng and Chisholm, 2012] Examined gene expression in Prochlorococcus during cyanophage infection under phosphate-limited conditions. pstA expression was affected by both phosphate limitation and phage infection.\\n\\n4. Challenges or limitations:\\n- Limited studies focusing specifically on pstA in Prochlorococcus\\n- Most research considers the entire pst operon rather than individual genes\\n\\n5. Conflicting information or gaps:\\n- Limited information on pstA expression in different Prochlorococcus ecotypes\\n- Lack of detailed structural studies on Prochlorococcus PstA protein\\n\\n6. Initial observations:\\n- pstA is a critical component of the high-affinity phosphate uptake system in Prochlorococcus\\n- Its expression is tightly regulated by phosphate availability\\n- The gene appears to be conserved across Prochlorococcus strains\\n\\n7. Key themes and patterns:\\n- pstA is part of a larger phosphate acquisition system\\n- Expression is strongly influenced by environmental phosphate levels\\n- The gene plays a role in Prochlorococcus-cyanophage interactions\\n\\n8. Potential implications:\\n- pstA may be a key factor in Prochlorococcus adaptation to low-phosphate environments\\n- Understanding pstA regulation could provide insights into Prochlorococcus niche partitioning\\n- The gene could be a target for studying Prochlorococcus-virus co-evolution\\n\\n</research_process>\\n\\n<database_entry>\\n  <primary_function>\\n    The pstA gene in Prochlorococcus encodes a permease protein that is a critical component of the high-affinity phosphate ABC transporter system. It functions as part of the PstSCAB complex, which is responsible for the uptake of inorganic phosphate across the cell membrane under low phosphate conditions[Scanlan et al., 2009].\\n    <conservation>This function appears to be highly conserved across all known Prochlorococcus strains, as the pst operon has been identified in all sequenced genomes[Martiny et al., 2006].</conservation>\\n  </primary_function>\\n\\n  <physiological_contribution>\\n    PstA contributes significantly to Prochlorococcus' ability to thrive in oligotrophic environments where phosphate is often a limiting nutrient. By enabling efficient phosphate uptake, it plays a crucial role in maintaining cellular phosphorus homeostasis, which is essential for various cellular processes including DNA replication, RNA synthesis, and energy metabolism[Scanlan et al., 2009].\\n    <conservation>This physiological contribution is likely conserved across Prochlorococcus ecotypes, given the ubiquitous presence of the pst operon and the universal requirement for phosphate in cellular functions[Martiny et al., 2006].</conservation>\\n  </physiological_contribution>\\n\\n  <stress_responses>\\n    <response1>\\n      Under phosphate limitation, the expression of pstA is significantly upregulated as part of the Pho regulon, enabling more efficient phosphate scavenging[Martiny et al., 2006].\\n      <conservation>This response appears to be conserved across Prochlorococcus strains, although the magnitude of upregulation may vary between ecotypes[Scanlan et al., 2009].</conservation>\\n    </response1>\\n    <response2>\\n      During cyanophage infection under phosphate-limited conditions, host pstA expression is altered, potentially as part of a complex interaction between host and phage phosphate acquisition systems[Lin et al., 2016].\\n      <conservation>This response has been observed in multiple Prochlorococcus strains, suggesting conservation, but more research is needed to confirm its universality[Zeng and Chisholm, 2012].</conservation>\\n    </response2>\\n  </stress_responses>\\n\\n  <uptake_exudation>\\n    <uptake>\\n      PstA is directly involved in the uptake of inorganic phosphate. As part of the PstSCAB complex, it forms a channel through which phosphate ions are transported into the cell[Scanlan et al., 2009].\\n      <conservation>This uptake process is highly conserved across Prochlorococcus strains and other cyanobacteria, reflecting the fundamental importance of phosphate acquisition[Martiny et al., 2006].</conservation>\\n    </uptake>\\n    <exudation>\\n      There is no direct evidence of PstA involvement in exudation processes. Its primary role appears to be in uptake rather than export.\\n      <conservation>The lack of exudation function seems consistent across studied Prochlorococcus strains.</conservation>\\n    </exudation>\\n  </uptake_exudation>\\n\\n  <phylogenetic_persistence>\\n    The pstA gene shows high phylogenetic persistence across all known Prochlorococcus ecotypes. It is part of the core genome of Prochlorococcus and is also found in other cyanobacteria and many other bacterial species. The high conservation of this gene across diverse phylogenetic groups underscores its fundamental importance in phosphate acquisition[Martiny et al., 2006][Scanlan et al., 2009].\\n  </phylogenetic_persistence>\\n\\n  <coculture_role>\\n    Specific information about pstA expression changes in coculture with heterotrophic bacteria is limited. However, given that heterotrophic bacteria can compete for phosphate and potentially alter the phosphate availability in the environment, it is plausible that pstA expression could be affected in coculture conditions.\\n    <conservation>While the general importance of phosphate acquisition in coculture is likely conserved, specific responses of pstA in these conditions require further research across different Prochlorococcus strains.</conservation>\\n  </coculture_role>\\n\\n  <references>\\n    <ref1>Martiny, A.C., Coleman, M.L. and Chisholm, S.W., 2006. Phosphate acquisition genes in Prochlorococcus ecotypes: evidence for genome-wide adaptation. Proceedings of the National Academy of Sciences, 103(33), pp.12552-12557.</ref1>\\n    <ref2>Scanlan, D.J., Ostrowski, M., Mazard, S., Dufresne, A., Garczarek, L., Hess, W.R., Post, A.F., Hagemann, M., Paulsen, I. and Partensky, F., 2009. Ecological genomics of marine picocyanobacteria. Microbiology and Molecular Biology Reviews, 73(2), pp.249-299.</ref2>\\n    <ref3>Lin, X., Ding, H. and Zeng, Q., 2016. Transcriptomic response during phage infection of a marine cyanobacterium under phosphorus-limited conditions. Environmental microbiology, 18(2), pp.450-460.</ref3>\\n    <ref4>Osburne, M.S., Holmbeck, B.M., Coe, A., Chisholm, S.W., 2011. The genome sequences of three Prochlorococcus cyanophages show they are related to T7-like phages. Environmental Microbiology Reports, 3(2), pp.251-257.</ref4>\\n    <ref5>Zeng, Q. and Chisholm, S.W., 2012. Marine viruses exploit their host's two-component regulatory system in response to resource limitation. Current Biology, 22(2), pp.124-128.</ref5>\\n  </references>\\n</database_entry>\",\n",
      "        \"role\": \"assistant\"\n",
      "      },\n",
      "      \"delta\": {\n",
      "        \"role\": \"assistant\",\n",
      "        \"content\": \"\"\n",
      "      }\n",
      "    }\n",
      "  ],\n",
      "  \"created\": 1739096663,\n",
      "  \"model\": \"sonar-pro\",\n",
      "  \"object\": \"chat.completion\",\n",
      "  \"usage\": {\n",
      "    \"completion_tokens\": 2214,\n",
      "    \"prompt_tokens\": 825,\n",
      "    \"total_tokens\": 3039,\n",
      "    \"citation_tokens\": 5244,\n",
      "    \"num_search_queries\": 2\n",
      "  },\n",
      "  \"citations\": [\n",
      "    \"https://www.biorxiv.org/content/10.1101/2021.07.20.453049v1.full.pdf\",\n",
      "    \"https://onlinelibrary.wiley.com/doi/10.1111/j.1462-2920.2011.02612.x\",\n",
      "    \"https://eprints.soton.ac.uk/436684/1/Carter_Gates_Michael_PhD_Thesis_Dec_2019.pdf\",\n",
      "    \"https://pubmed.ncbi.nlm.nih.gov/19187282/\",\n",
      "    \"https://string-db.org/network/167539.Pro_0596\",\n",
      "    \"https://www.researchgate.net/publication/268987175_Prochlorococcus_The_structure_and_function_of_collective_diversity\",\n",
      "    \"https://www.uniprot.org/uniprotkb/Q7VCZ3/entry\",\n",
      "    \"https://string-db.org/network/59920.PMN2A_0309\",\n",
      "    \"https://www.science.org/doi/10.1126/sciadv.adp1949\",\n",
      "    \"https://journals.asm.org/doi/10.1128/AEM.01178-18\"\n",
      "  ]\n",
      "}\n"
     ]
    }
   ],
   "source": [
    "print(response.to_json())"
   ]
  },
  {
   "cell_type": "markdown",
   "id": "a7bffb84-ceaf-4946-8dab-76017e1f701f",
   "metadata": {},
   "source": [
    "# Run batch"
   ]
  },
  {
   "cell_type": "markdown",
   "id": "a456fa26-57a2-4ef8-b989-92be67742f0d",
   "metadata": {},
   "source": [
    "Run the queries in batch. start only with those that have a name.\n",
    "\n",
    "As perplexity does not support running in batch, run the queries one at a time.\n"
   ]
  },
  {
   "cell_type": "code",
   "execution_count": 89,
   "id": "7fd18859-f4ab-4691-a6e1-81727d75b302",
   "metadata": {},
   "outputs": [],
   "source": [
    "def get_custom_batch_id(x):\n",
    "    #print(x)\n",
    "    batchid = f'batch-id-{x[\"gene_name\"]}'\n",
    "    batchid = batchid.replace(', ', '-')\n",
    "    batchid = batchid.replace(' ', '-')\n",
    "    return batchid\n"
   ]
  },
  {
   "cell_type": "code",
   "execution_count": 90,
   "id": "616ce828-faa7-4d08-bfc1-6f36e2345bb4",
   "metadata": {},
   "outputs": [],
   "source": [
    "def get_batch_request(x, placeholders_map):\n",
    "    return dict(\n",
    "        custom_id=get_custom_batch_id(x),\n",
    "        params=dict(\n",
    "            model=MODEL,\n",
    "            max_tokens=max_tokens,\n",
    "            temperature=temperature,\n",
    "            messages=get_messages(x, template_prompt, placeholders_map)\n",
    "        )\n",
    "    )\n"
   ]
  },
  {
   "cell_type": "code",
   "execution_count": 91,
   "id": "1b91b84e-2aca-4f3b-a5e3-0aad8a2b17f9",
   "metadata": {},
   "outputs": [
    {
     "data": {
      "text/plain": [
       "{'custom_id': 'batch-id-pstA--TX50_RS03870',\n",
       " 'params': {'model': 'sonar-pro',\n",
       "  'max_tokens': 4096,\n",
       "  'temperature': 0,\n",
       "  'messages': [{'role': 'user',\n",
       "    'content': [{'type': 'text',\n",
       "      'text': \"\\nYou are a highly skilled research assistant specializing in microbiology, with a focus on Prochlorococcus bacteria. Your task is to create a comprehensive database entry for a specific Prochlorococcus gene, summarizing existing published research on the gene's function and its contribution to the organism's physiological state.\\n\\n\\nHere are details of the gene you will be researching:\\n<gene_name>\\npstA , TX50_RS03870\\n</gene_name>\\n\\n<gene_product>\\nphosphate ABC transporter permease PstA\\n</gene_product>\\n\\n<gene_protein_id>\\nWP_011132358.1\\n</gene_protein_id>\\n\\nBegin by conducting a thorough literature review. Wrap your research process inside <research_process> tags, including:\\n\\n1. Key search terms and databases you would use.\\n2. An overview of the available literature, including:\\n   - Number of relevant papers\\n   - Date range of the research\\n   - Main research focuses\\n3. Summaries of 5-7 key sources, each with:\\n   - Proper citation\\n   - 2-3 sentence summary of main findings related to the gene\\n4. Challenges or limitations in finding information\\n5. Conflicting information or significant gaps in the research\\n6. Initial observations about the gene's function and importance\\n7. Identification of key themes and patterns across the literature\\n8. Brainstorming of potential implications of the findings\\n\\nAfter completing your research process, create a comprehensive database entry using the following structure:\\n\\n<database_entry>\\n  <primary_function>\\n    [Describe the main role of the gene in Prochlorococcus]\\n    <conservation>[Is this role conserved? Explain.]</conservation>\\n  </primary_function>\\n\\n  <physiological_contribution>\\n    [Explain how this gene contributes to the overall physiological state of the organism]\\n    <conservation>[Is this contribution conserved? Explain.]</conservation>\\n  </physiological_contribution>\\n\\n  <stress_responses>\\n    <response1>\\n      [Description of first stress response]\\n      <conservation>[Is this response conserved? Explain.]</conservation>\\n    </response1>\\n    <response2>\\n      [Description of second stress response]\\n      <conservation>[Is this response conserved? Explain.]</conservation>\\n    </response2>\\n    <!-- Add more response tags as needed -->\\n  </stress_responses>\\n\\n  <uptake_exudation>\\n    <uptake>\\n      [Information about uptake processes]\\n      <conservation>[Is this process conserved? Explain.]</conservation>\\n    </uptake>\\n    <exudation>\\n      [Information about exudation processes]\\n      <conservation>[Is this process conserved? Explain.]</conservation>\\n    </exudation>\\n  </uptake_exudation>\\n\\n  <phylogenetic_persistence>\\n    [Discussion of research persistence across different phylogenetic levels]\\n  </phylogenetic_persistence>\\n\\n  <coculture_role>\\n    [Describe any known information about gene role and expression changes when in coculture with heterotrophic bacteria]\\n    <conservation>[Is this role conserved in coculture conditions? Explain.]</conservation>\\n  </coculture_role>\\n\\n  <references>\\n    <ref1>[First reference in standard academic format]</ref1>\\n    <ref2>[Second reference in standard academic format]</ref2>\\n    <!-- Add more ref tags as needed -->\\n  </references>\\n</database_entry>\\n\\nImportant guidelines:\\n1. Rely solely on published research and factual information.\\n2. If information is not available for any section, clearly state this lack of data within the relevant tags.\\n3. Use citations in the format [Author, Year] throughout the database entry, ensuring all citations are listed in the references section.\\n4. For each section, consider and discuss whether the described role or function is conserved across different strains or related species.\\n5. Pay special attention to any information about the gene's role in coculture conditions with heterotrophic bacteria.\\n\\nBegin your response with the research process.\\n\"}]}]}}"
      ]
     },
     "execution_count": 91,
     "metadata": {},
     "output_type": "execute_result"
    }
   ],
   "source": [
    "get_batch_request(x, placeholders_map)"
   ]
  },
  {
   "cell_type": "code",
   "execution_count": null,
   "id": "d43703d3-25b9-4eb4-ab22-ec6a8ff765d3",
   "metadata": {},
   "outputs": [],
   "source": []
  },
  {
   "cell_type": "code",
   "execution_count": 92,
   "id": "1dcd8939-3229-4eb0-8c2d-279b9e24c0cb",
   "metadata": {},
   "outputs": [
    {
     "data": {
      "text/html": [
       "<div>\n",
       "<style scoped>\n",
       "    .dataframe tbody tr th:only-of-type {\n",
       "        vertical-align: middle;\n",
       "    }\n",
       "\n",
       "    .dataframe tbody tr th {\n",
       "        vertical-align: top;\n",
       "    }\n",
       "\n",
       "    .dataframe thead th {\n",
       "        text-align: right;\n",
       "    }\n",
       "</style>\n",
       "<table border=\"1\" class=\"dataframe\">\n",
       "  <thead>\n",
       "    <tr style=\"text-align: right;\">\n",
       "      <th></th>\n",
       "      <th>gene_name</th>\n",
       "      <th>gene</th>\n",
       "      <th>locus_tag</th>\n",
       "      <th>product</th>\n",
       "      <th>protein_id</th>\n",
       "    </tr>\n",
       "  </thead>\n",
       "  <tbody>\n",
       "  </tbody>\n",
       "</table>\n",
       "</div>"
      ],
      "text/plain": [
       "Empty DataFrame\n",
       "Columns: [gene_name, gene, locus_tag, product, protein_id]\n",
       "Index: []"
      ]
     },
     "execution_count": 92,
     "metadata": {},
     "output_type": "execute_result"
    }
   ],
   "source": [
    "gff_named_df.loc[gff_named_df.duplicated()]"
   ]
  },
  {
   "cell_type": "code",
   "execution_count": 93,
   "id": "f39b2dd5-6e18-4d67-b7a9-54befa03688d",
   "metadata": {},
   "outputs": [],
   "source": [
    "batch_requests = gff_named_df.apply(lambda x: get_batch_request(x, placeholders_map), axis=1).to_list()"
   ]
  },
  {
   "cell_type": "code",
   "execution_count": 94,
   "id": "d7d89c72-8659-4fb5-8a6b-df08528ff9cf",
   "metadata": {},
   "outputs": [
    {
     "data": {
      "text/plain": [
       "{'custom_id': 'batch-id-ftsY--TX50_RS00065',\n",
       " 'params': {'model': 'sonar-pro',\n",
       "  'max_tokens': 4096,\n",
       "  'temperature': 0,\n",
       "  'messages': [{'role': 'user',\n",
       "    'content': [{'type': 'text',\n",
       "      'text': \"\\nYou are a highly skilled research assistant specializing in microbiology, with a focus on Prochlorococcus bacteria. Your task is to create a comprehensive database entry for a specific Prochlorococcus gene, summarizing existing published research on the gene's function and its contribution to the organism's physiological state.\\n\\n\\nHere are details of the gene you will be researching:\\n<gene_name>\\nftsY , TX50_RS00065\\n</gene_name>\\n\\n<gene_product>\\nsignal recognition particle-docking protein FtsY\\n</gene_product>\\n\\n<gene_protein_id>\\nWP_011131648.1\\n</gene_protein_id>\\n\\nBegin by conducting a thorough literature review. Wrap your research process inside <research_process> tags, including:\\n\\n1. Key search terms and databases you would use.\\n2. An overview of the available literature, including:\\n   - Number of relevant papers\\n   - Date range of the research\\n   - Main research focuses\\n3. Summaries of 5-7 key sources, each with:\\n   - Proper citation\\n   - 2-3 sentence summary of main findings related to the gene\\n4. Challenges or limitations in finding information\\n5. Conflicting information or significant gaps in the research\\n6. Initial observations about the gene's function and importance\\n7. Identification of key themes and patterns across the literature\\n8. Brainstorming of potential implications of the findings\\n\\nAfter completing your research process, create a comprehensive database entry using the following structure:\\n\\n<database_entry>\\n  <primary_function>\\n    [Describe the main role of the gene in Prochlorococcus]\\n    <conservation>[Is this role conserved? Explain.]</conservation>\\n  </primary_function>\\n\\n  <physiological_contribution>\\n    [Explain how this gene contributes to the overall physiological state of the organism]\\n    <conservation>[Is this contribution conserved? Explain.]</conservation>\\n  </physiological_contribution>\\n\\n  <stress_responses>\\n    <response1>\\n      [Description of first stress response]\\n      <conservation>[Is this response conserved? Explain.]</conservation>\\n    </response1>\\n    <response2>\\n      [Description of second stress response]\\n      <conservation>[Is this response conserved? Explain.]</conservation>\\n    </response2>\\n    <!-- Add more response tags as needed -->\\n  </stress_responses>\\n\\n  <uptake_exudation>\\n    <uptake>\\n      [Information about uptake processes]\\n      <conservation>[Is this process conserved? Explain.]</conservation>\\n    </uptake>\\n    <exudation>\\n      [Information about exudation processes]\\n      <conservation>[Is this process conserved? Explain.]</conservation>\\n    </exudation>\\n  </uptake_exudation>\\n\\n  <phylogenetic_persistence>\\n    [Discussion of research persistence across different phylogenetic levels]\\n  </phylogenetic_persistence>\\n\\n  <coculture_role>\\n    [Describe any known information about gene role and expression changes when in coculture with heterotrophic bacteria]\\n    <conservation>[Is this role conserved in coculture conditions? Explain.]</conservation>\\n  </coculture_role>\\n\\n  <references>\\n    <ref1>[First reference in standard academic format]</ref1>\\n    <ref2>[Second reference in standard academic format]</ref2>\\n    <!-- Add more ref tags as needed -->\\n  </references>\\n</database_entry>\\n\\nImportant guidelines:\\n1. Rely solely on published research and factual information.\\n2. If information is not available for any section, clearly state this lack of data within the relevant tags.\\n3. Use citations in the format [Author, Year] throughout the database entry, ensuring all citations are listed in the references section.\\n4. For each section, consider and discuss whether the described role or function is conserved across different strains or related species.\\n5. Pay special attention to any information about the gene's role in coculture conditions with heterotrophic bacteria.\\n\\nBegin your response with the research process.\\n\"}]}]}}"
      ]
     },
     "execution_count": 94,
     "metadata": {},
     "output_type": "execute_result"
    }
   ],
   "source": [
    "batch_requests[5]"
   ]
  },
  {
   "cell_type": "code",
   "execution_count": 95,
   "id": "2b53489c-32bf-411c-ac42-3c8e86a9da10",
   "metadata": {},
   "outputs": [
    {
     "data": {
      "text/plain": [
       "503"
      ]
     },
     "execution_count": 95,
     "metadata": {},
     "output_type": "execute_result"
    }
   ],
   "source": [
    "len(batch_requests)"
   ]
  },
  {
   "cell_type": "code",
   "execution_count": 75,
   "id": "1bca9479",
   "metadata": {},
   "outputs": [
    {
     "name": "stdout",
     "output_type": "stream",
     "text": [
      "BetaMessageBatch(id='msgbatch_01FcV432uRZzKGFFejvr2dcj', archived_at=None, cancel_initiated_at=None, created_at=datetime.datetime(2025, 1, 25, 21, 47, 58, 453189, tzinfo=datetime.timezone.utc), ended_at=None, expires_at=datetime.datetime(2025, 1, 26, 21, 47, 58, 453189, tzinfo=datetime.timezone.utc), processing_status='in_progress', request_counts=BetaMessageBatchRequestCounts(canceled=0, errored=0, expired=0, processing=503, succeeded=0), results_url=None, type='message_batch')\n"
     ]
    }
   ],
   "source": [
    "\n",
    "\n",
    "message_batch = anthropic_client.beta.messages.batches.create(\n",
    "    requests=batch_requests,\n",
    ")\n",
    "print(message_batch)\n"
   ]
  },
  {
   "cell_type": "code",
   "execution_count": 96,
   "id": "0c064ba1-1f4c-41bd-8e53-f8e0a4b1a077",
   "metadata": {},
   "outputs": [],
   "source": [
    "out_dpath = os.path.join('batch results', 'perplexity_single_structured_prompt_09022025',)\n",
    "os.makedirs(out_dpath, exist_ok=True)"
   ]
  },
  {
   "cell_type": "code",
   "execution_count": null,
   "id": "b9d99f7d-8222-407a-b95f-56aadbc42404",
   "metadata": {},
   "outputs": [],
   "source": [
    "# naive batch call - no parallelism, call one by one"
   ]
  },
  {
   "cell_type": "code",
   "execution_count": 100,
   "id": "d0111fac-7842-466b-95e8-98c171c1fedd",
   "metadata": {
    "scrolled": true
   },
   "outputs": [
    {
     "name": "stdout",
     "output_type": "stream",
     "text": [
      "................................................................................................................................................................................................................................................................................................................................................................................."
     ]
    },
    {
     "ename": "AuthenticationError",
     "evalue": "<html>\r\n<head><title>401 Authorization Required</title></head>\r\n<body>\r\n<center><h1>401 Authorization Required</h1></center>\r\n<hr><center>openresty/1.25.3.1</center>\r\n<script>(function(){function c(){var b=a.contentDocument||a.contentWindow.document;if(b){var d=b.createElement('script');d.innerHTML=\"window.__CF$cv$params={r:'90f4791aee57c222',t:'MTczOTExMDU0Mi4wMDAwMDA='};var a=document.createElement('script');a.nonce='';a.src='/cdn-cgi/challenge-platform/scripts/jsd/main.js';document.getElementsByTagName('head')[0].appendChild(a);\";b.getElementsByTagName('head')[0].appendChild(d)}}if(document.body){var a=document.createElement('iframe');a.height=1;a.width=1;a.style.position='absolute';a.style.top=0;a.style.left=0;a.style.border='none';a.style.visibility='hidden';document.body.appendChild(a);if('loading'!==document.readyState)c();else if(window.addEventListener)document.addEventListener('DOMContentLoaded',c);else{var e=document.onreadystatechange||function(){};document.onreadystatechange=function(b){e(b);'loading'!==document.readyState&&(document.onreadystatechange=e,c())}}}})();</script></body>\r\n</html>",
     "output_type": "error",
     "traceback": [
      "\u001b[1;31m---------------------------------------------------------------------------\u001b[0m",
      "\u001b[1;31mAuthenticationError\u001b[0m                       Traceback (most recent call last)",
      "Cell \u001b[1;32mIn[100], line 2\u001b[0m\n\u001b[0;32m      1\u001b[0m \u001b[38;5;28;01mfor\u001b[39;00m i \u001b[38;5;129;01min\u001b[39;00m batch_requests:\n\u001b[1;32m----> 2\u001b[0m     response \u001b[38;5;241m=\u001b[39m \u001b[43mperplexity_client\u001b[49m\u001b[38;5;241;43m.\u001b[39;49m\u001b[43mchat\u001b[49m\u001b[38;5;241;43m.\u001b[39;49m\u001b[43mcompletions\u001b[49m\u001b[38;5;241;43m.\u001b[39;49m\u001b[43mcreate\u001b[49m\u001b[43m(\u001b[49m\u001b[38;5;241;43m*\u001b[39;49m\u001b[38;5;241;43m*\u001b[39;49m\u001b[43mi\u001b[49m\u001b[43m[\u001b[49m\u001b[38;5;124;43m'\u001b[39;49m\u001b[38;5;124;43mparams\u001b[39;49m\u001b[38;5;124;43m'\u001b[39;49m\u001b[43m]\u001b[49m\u001b[43m)\u001b[49m\n\u001b[0;32m      3\u001b[0m     results \u001b[38;5;241m=\u001b[39m {\u001b[38;5;124m'\u001b[39m\u001b[38;5;124mcustom_id\u001b[39m\u001b[38;5;124m'\u001b[39m : i[\u001b[38;5;124m'\u001b[39m\u001b[38;5;124mcustom_id\u001b[39m\u001b[38;5;124m'\u001b[39m], \u001b[38;5;124m'\u001b[39m\u001b[38;5;124mresult\u001b[39m\u001b[38;5;124m'\u001b[39m: response\u001b[38;5;241m.\u001b[39mto_dict()}\n\u001b[0;32m      4\u001b[0m     fpath \u001b[38;5;241m=\u001b[39m os\u001b[38;5;241m.\u001b[39mpath\u001b[38;5;241m.\u001b[39mjoin(out_dpath, \u001b[38;5;124mf\u001b[39m\u001b[38;5;124m'\u001b[39m\u001b[38;5;124mperplexity_result_\u001b[39m\u001b[38;5;132;01m{\u001b[39;00mi[\u001b[38;5;124m\"\u001b[39m\u001b[38;5;124mcustom_id\u001b[39m\u001b[38;5;124m\"\u001b[39m]\u001b[38;5;132;01m}\u001b[39;00m\u001b[38;5;124m.json\u001b[39m\u001b[38;5;124m'\u001b[39m)\n",
      "File \u001b[1;32m~\\anaconda3\\envs\\llms\\Lib\\site-packages\\openai\\_utils\\_utils.py:279\u001b[0m, in \u001b[0;36mrequired_args.<locals>.inner.<locals>.wrapper\u001b[1;34m(*args, **kwargs)\u001b[0m\n\u001b[0;32m    277\u001b[0m             msg \u001b[38;5;241m=\u001b[39m \u001b[38;5;124mf\u001b[39m\u001b[38;5;124m\"\u001b[39m\u001b[38;5;124mMissing required argument: \u001b[39m\u001b[38;5;132;01m{\u001b[39;00mquote(missing[\u001b[38;5;241m0\u001b[39m])\u001b[38;5;132;01m}\u001b[39;00m\u001b[38;5;124m\"\u001b[39m\n\u001b[0;32m    278\u001b[0m     \u001b[38;5;28;01mraise\u001b[39;00m \u001b[38;5;167;01mTypeError\u001b[39;00m(msg)\n\u001b[1;32m--> 279\u001b[0m \u001b[38;5;28;01mreturn\u001b[39;00m \u001b[43mfunc\u001b[49m\u001b[43m(\u001b[49m\u001b[38;5;241;43m*\u001b[39;49m\u001b[43margs\u001b[49m\u001b[43m,\u001b[49m\u001b[43m \u001b[49m\u001b[38;5;241;43m*\u001b[39;49m\u001b[38;5;241;43m*\u001b[39;49m\u001b[43mkwargs\u001b[49m\u001b[43m)\u001b[49m\n",
      "File \u001b[1;32m~\\anaconda3\\envs\\llms\\Lib\\site-packages\\openai\\resources\\chat\\completions.py:859\u001b[0m, in \u001b[0;36mCompletions.create\u001b[1;34m(self, messages, model, audio, frequency_penalty, function_call, functions, logit_bias, logprobs, max_completion_tokens, max_tokens, metadata, modalities, n, parallel_tool_calls, prediction, presence_penalty, reasoning_effort, response_format, seed, service_tier, stop, store, stream, stream_options, temperature, tool_choice, tools, top_logprobs, top_p, user, extra_headers, extra_query, extra_body, timeout)\u001b[0m\n\u001b[0;32m    817\u001b[0m \u001b[38;5;129m@required_args\u001b[39m([\u001b[38;5;124m\"\u001b[39m\u001b[38;5;124mmessages\u001b[39m\u001b[38;5;124m\"\u001b[39m, \u001b[38;5;124m\"\u001b[39m\u001b[38;5;124mmodel\u001b[39m\u001b[38;5;124m\"\u001b[39m], [\u001b[38;5;124m\"\u001b[39m\u001b[38;5;124mmessages\u001b[39m\u001b[38;5;124m\"\u001b[39m, \u001b[38;5;124m\"\u001b[39m\u001b[38;5;124mmodel\u001b[39m\u001b[38;5;124m\"\u001b[39m, \u001b[38;5;124m\"\u001b[39m\u001b[38;5;124mstream\u001b[39m\u001b[38;5;124m\"\u001b[39m])\n\u001b[0;32m    818\u001b[0m \u001b[38;5;28;01mdef\u001b[39;00m\u001b[38;5;250m \u001b[39m\u001b[38;5;21mcreate\u001b[39m(\n\u001b[0;32m    819\u001b[0m     \u001b[38;5;28mself\u001b[39m,\n\u001b[1;32m   (...)\u001b[0m\n\u001b[0;32m    856\u001b[0m     timeout: \u001b[38;5;28mfloat\u001b[39m \u001b[38;5;241m|\u001b[39m httpx\u001b[38;5;241m.\u001b[39mTimeout \u001b[38;5;241m|\u001b[39m \u001b[38;5;28;01mNone\u001b[39;00m \u001b[38;5;241m|\u001b[39m NotGiven \u001b[38;5;241m=\u001b[39m NOT_GIVEN,\n\u001b[0;32m    857\u001b[0m ) \u001b[38;5;241m-\u001b[39m\u001b[38;5;241m>\u001b[39m ChatCompletion \u001b[38;5;241m|\u001b[39m Stream[ChatCompletionChunk]:\n\u001b[0;32m    858\u001b[0m     validate_response_format(response_format)\n\u001b[1;32m--> 859\u001b[0m     \u001b[38;5;28;01mreturn\u001b[39;00m \u001b[38;5;28;43mself\u001b[39;49m\u001b[38;5;241;43m.\u001b[39;49m\u001b[43m_post\u001b[49m\u001b[43m(\u001b[49m\n\u001b[0;32m    860\u001b[0m \u001b[43m        \u001b[49m\u001b[38;5;124;43m\"\u001b[39;49m\u001b[38;5;124;43m/chat/completions\u001b[39;49m\u001b[38;5;124;43m\"\u001b[39;49m\u001b[43m,\u001b[49m\n\u001b[0;32m    861\u001b[0m \u001b[43m        \u001b[49m\u001b[43mbody\u001b[49m\u001b[38;5;241;43m=\u001b[39;49m\u001b[43mmaybe_transform\u001b[49m\u001b[43m(\u001b[49m\n\u001b[0;32m    862\u001b[0m \u001b[43m            \u001b[49m\u001b[43m{\u001b[49m\n\u001b[0;32m    863\u001b[0m \u001b[43m                \u001b[49m\u001b[38;5;124;43m\"\u001b[39;49m\u001b[38;5;124;43mmessages\u001b[39;49m\u001b[38;5;124;43m\"\u001b[39;49m\u001b[43m:\u001b[49m\u001b[43m \u001b[49m\u001b[43mmessages\u001b[49m\u001b[43m,\u001b[49m\n\u001b[0;32m    864\u001b[0m \u001b[43m                \u001b[49m\u001b[38;5;124;43m\"\u001b[39;49m\u001b[38;5;124;43mmodel\u001b[39;49m\u001b[38;5;124;43m\"\u001b[39;49m\u001b[43m:\u001b[49m\u001b[43m \u001b[49m\u001b[43mmodel\u001b[49m\u001b[43m,\u001b[49m\n\u001b[0;32m    865\u001b[0m \u001b[43m                \u001b[49m\u001b[38;5;124;43m\"\u001b[39;49m\u001b[38;5;124;43maudio\u001b[39;49m\u001b[38;5;124;43m\"\u001b[39;49m\u001b[43m:\u001b[49m\u001b[43m \u001b[49m\u001b[43maudio\u001b[49m\u001b[43m,\u001b[49m\n\u001b[0;32m    866\u001b[0m \u001b[43m                \u001b[49m\u001b[38;5;124;43m\"\u001b[39;49m\u001b[38;5;124;43mfrequency_penalty\u001b[39;49m\u001b[38;5;124;43m\"\u001b[39;49m\u001b[43m:\u001b[49m\u001b[43m \u001b[49m\u001b[43mfrequency_penalty\u001b[49m\u001b[43m,\u001b[49m\n\u001b[0;32m    867\u001b[0m \u001b[43m                \u001b[49m\u001b[38;5;124;43m\"\u001b[39;49m\u001b[38;5;124;43mfunction_call\u001b[39;49m\u001b[38;5;124;43m\"\u001b[39;49m\u001b[43m:\u001b[49m\u001b[43m \u001b[49m\u001b[43mfunction_call\u001b[49m\u001b[43m,\u001b[49m\n\u001b[0;32m    868\u001b[0m \u001b[43m                \u001b[49m\u001b[38;5;124;43m\"\u001b[39;49m\u001b[38;5;124;43mfunctions\u001b[39;49m\u001b[38;5;124;43m\"\u001b[39;49m\u001b[43m:\u001b[49m\u001b[43m \u001b[49m\u001b[43mfunctions\u001b[49m\u001b[43m,\u001b[49m\n\u001b[0;32m    869\u001b[0m \u001b[43m                \u001b[49m\u001b[38;5;124;43m\"\u001b[39;49m\u001b[38;5;124;43mlogit_bias\u001b[39;49m\u001b[38;5;124;43m\"\u001b[39;49m\u001b[43m:\u001b[49m\u001b[43m \u001b[49m\u001b[43mlogit_bias\u001b[49m\u001b[43m,\u001b[49m\n\u001b[0;32m    870\u001b[0m \u001b[43m                \u001b[49m\u001b[38;5;124;43m\"\u001b[39;49m\u001b[38;5;124;43mlogprobs\u001b[39;49m\u001b[38;5;124;43m\"\u001b[39;49m\u001b[43m:\u001b[49m\u001b[43m \u001b[49m\u001b[43mlogprobs\u001b[49m\u001b[43m,\u001b[49m\n\u001b[0;32m    871\u001b[0m \u001b[43m                \u001b[49m\u001b[38;5;124;43m\"\u001b[39;49m\u001b[38;5;124;43mmax_completion_tokens\u001b[39;49m\u001b[38;5;124;43m\"\u001b[39;49m\u001b[43m:\u001b[49m\u001b[43m \u001b[49m\u001b[43mmax_completion_tokens\u001b[49m\u001b[43m,\u001b[49m\n\u001b[0;32m    872\u001b[0m \u001b[43m                \u001b[49m\u001b[38;5;124;43m\"\u001b[39;49m\u001b[38;5;124;43mmax_tokens\u001b[39;49m\u001b[38;5;124;43m\"\u001b[39;49m\u001b[43m:\u001b[49m\u001b[43m \u001b[49m\u001b[43mmax_tokens\u001b[49m\u001b[43m,\u001b[49m\n\u001b[0;32m    873\u001b[0m \u001b[43m                \u001b[49m\u001b[38;5;124;43m\"\u001b[39;49m\u001b[38;5;124;43mmetadata\u001b[39;49m\u001b[38;5;124;43m\"\u001b[39;49m\u001b[43m:\u001b[49m\u001b[43m \u001b[49m\u001b[43mmetadata\u001b[49m\u001b[43m,\u001b[49m\n\u001b[0;32m    874\u001b[0m \u001b[43m                \u001b[49m\u001b[38;5;124;43m\"\u001b[39;49m\u001b[38;5;124;43mmodalities\u001b[39;49m\u001b[38;5;124;43m\"\u001b[39;49m\u001b[43m:\u001b[49m\u001b[43m \u001b[49m\u001b[43mmodalities\u001b[49m\u001b[43m,\u001b[49m\n\u001b[0;32m    875\u001b[0m \u001b[43m                \u001b[49m\u001b[38;5;124;43m\"\u001b[39;49m\u001b[38;5;124;43mn\u001b[39;49m\u001b[38;5;124;43m\"\u001b[39;49m\u001b[43m:\u001b[49m\u001b[43m \u001b[49m\u001b[43mn\u001b[49m\u001b[43m,\u001b[49m\n\u001b[0;32m    876\u001b[0m \u001b[43m                \u001b[49m\u001b[38;5;124;43m\"\u001b[39;49m\u001b[38;5;124;43mparallel_tool_calls\u001b[39;49m\u001b[38;5;124;43m\"\u001b[39;49m\u001b[43m:\u001b[49m\u001b[43m \u001b[49m\u001b[43mparallel_tool_calls\u001b[49m\u001b[43m,\u001b[49m\n\u001b[0;32m    877\u001b[0m \u001b[43m                \u001b[49m\u001b[38;5;124;43m\"\u001b[39;49m\u001b[38;5;124;43mprediction\u001b[39;49m\u001b[38;5;124;43m\"\u001b[39;49m\u001b[43m:\u001b[49m\u001b[43m \u001b[49m\u001b[43mprediction\u001b[49m\u001b[43m,\u001b[49m\n\u001b[0;32m    878\u001b[0m \u001b[43m                \u001b[49m\u001b[38;5;124;43m\"\u001b[39;49m\u001b[38;5;124;43mpresence_penalty\u001b[39;49m\u001b[38;5;124;43m\"\u001b[39;49m\u001b[43m:\u001b[49m\u001b[43m \u001b[49m\u001b[43mpresence_penalty\u001b[49m\u001b[43m,\u001b[49m\n\u001b[0;32m    879\u001b[0m \u001b[43m                \u001b[49m\u001b[38;5;124;43m\"\u001b[39;49m\u001b[38;5;124;43mreasoning_effort\u001b[39;49m\u001b[38;5;124;43m\"\u001b[39;49m\u001b[43m:\u001b[49m\u001b[43m \u001b[49m\u001b[43mreasoning_effort\u001b[49m\u001b[43m,\u001b[49m\n\u001b[0;32m    880\u001b[0m \u001b[43m                \u001b[49m\u001b[38;5;124;43m\"\u001b[39;49m\u001b[38;5;124;43mresponse_format\u001b[39;49m\u001b[38;5;124;43m\"\u001b[39;49m\u001b[43m:\u001b[49m\u001b[43m \u001b[49m\u001b[43mresponse_format\u001b[49m\u001b[43m,\u001b[49m\n\u001b[0;32m    881\u001b[0m \u001b[43m                \u001b[49m\u001b[38;5;124;43m\"\u001b[39;49m\u001b[38;5;124;43mseed\u001b[39;49m\u001b[38;5;124;43m\"\u001b[39;49m\u001b[43m:\u001b[49m\u001b[43m \u001b[49m\u001b[43mseed\u001b[49m\u001b[43m,\u001b[49m\n\u001b[0;32m    882\u001b[0m \u001b[43m                \u001b[49m\u001b[38;5;124;43m\"\u001b[39;49m\u001b[38;5;124;43mservice_tier\u001b[39;49m\u001b[38;5;124;43m\"\u001b[39;49m\u001b[43m:\u001b[49m\u001b[43m \u001b[49m\u001b[43mservice_tier\u001b[49m\u001b[43m,\u001b[49m\n\u001b[0;32m    883\u001b[0m \u001b[43m                \u001b[49m\u001b[38;5;124;43m\"\u001b[39;49m\u001b[38;5;124;43mstop\u001b[39;49m\u001b[38;5;124;43m\"\u001b[39;49m\u001b[43m:\u001b[49m\u001b[43m \u001b[49m\u001b[43mstop\u001b[49m\u001b[43m,\u001b[49m\n\u001b[0;32m    884\u001b[0m \u001b[43m                \u001b[49m\u001b[38;5;124;43m\"\u001b[39;49m\u001b[38;5;124;43mstore\u001b[39;49m\u001b[38;5;124;43m\"\u001b[39;49m\u001b[43m:\u001b[49m\u001b[43m \u001b[49m\u001b[43mstore\u001b[49m\u001b[43m,\u001b[49m\n\u001b[0;32m    885\u001b[0m \u001b[43m                \u001b[49m\u001b[38;5;124;43m\"\u001b[39;49m\u001b[38;5;124;43mstream\u001b[39;49m\u001b[38;5;124;43m\"\u001b[39;49m\u001b[43m:\u001b[49m\u001b[43m \u001b[49m\u001b[43mstream\u001b[49m\u001b[43m,\u001b[49m\n\u001b[0;32m    886\u001b[0m \u001b[43m                \u001b[49m\u001b[38;5;124;43m\"\u001b[39;49m\u001b[38;5;124;43mstream_options\u001b[39;49m\u001b[38;5;124;43m\"\u001b[39;49m\u001b[43m:\u001b[49m\u001b[43m \u001b[49m\u001b[43mstream_options\u001b[49m\u001b[43m,\u001b[49m\n\u001b[0;32m    887\u001b[0m \u001b[43m                \u001b[49m\u001b[38;5;124;43m\"\u001b[39;49m\u001b[38;5;124;43mtemperature\u001b[39;49m\u001b[38;5;124;43m\"\u001b[39;49m\u001b[43m:\u001b[49m\u001b[43m \u001b[49m\u001b[43mtemperature\u001b[49m\u001b[43m,\u001b[49m\n\u001b[0;32m    888\u001b[0m \u001b[43m                \u001b[49m\u001b[38;5;124;43m\"\u001b[39;49m\u001b[38;5;124;43mtool_choice\u001b[39;49m\u001b[38;5;124;43m\"\u001b[39;49m\u001b[43m:\u001b[49m\u001b[43m \u001b[49m\u001b[43mtool_choice\u001b[49m\u001b[43m,\u001b[49m\n\u001b[0;32m    889\u001b[0m \u001b[43m                \u001b[49m\u001b[38;5;124;43m\"\u001b[39;49m\u001b[38;5;124;43mtools\u001b[39;49m\u001b[38;5;124;43m\"\u001b[39;49m\u001b[43m:\u001b[49m\u001b[43m \u001b[49m\u001b[43mtools\u001b[49m\u001b[43m,\u001b[49m\n\u001b[0;32m    890\u001b[0m \u001b[43m                \u001b[49m\u001b[38;5;124;43m\"\u001b[39;49m\u001b[38;5;124;43mtop_logprobs\u001b[39;49m\u001b[38;5;124;43m\"\u001b[39;49m\u001b[43m:\u001b[49m\u001b[43m \u001b[49m\u001b[43mtop_logprobs\u001b[49m\u001b[43m,\u001b[49m\n\u001b[0;32m    891\u001b[0m \u001b[43m                \u001b[49m\u001b[38;5;124;43m\"\u001b[39;49m\u001b[38;5;124;43mtop_p\u001b[39;49m\u001b[38;5;124;43m\"\u001b[39;49m\u001b[43m:\u001b[49m\u001b[43m \u001b[49m\u001b[43mtop_p\u001b[49m\u001b[43m,\u001b[49m\n\u001b[0;32m    892\u001b[0m \u001b[43m                \u001b[49m\u001b[38;5;124;43m\"\u001b[39;49m\u001b[38;5;124;43muser\u001b[39;49m\u001b[38;5;124;43m\"\u001b[39;49m\u001b[43m:\u001b[49m\u001b[43m \u001b[49m\u001b[43muser\u001b[49m\u001b[43m,\u001b[49m\n\u001b[0;32m    893\u001b[0m \u001b[43m            \u001b[49m\u001b[43m}\u001b[49m\u001b[43m,\u001b[49m\n\u001b[0;32m    894\u001b[0m \u001b[43m            \u001b[49m\u001b[43mcompletion_create_params\u001b[49m\u001b[38;5;241;43m.\u001b[39;49m\u001b[43mCompletionCreateParams\u001b[49m\u001b[43m,\u001b[49m\n\u001b[0;32m    895\u001b[0m \u001b[43m        \u001b[49m\u001b[43m)\u001b[49m\u001b[43m,\u001b[49m\n\u001b[0;32m    896\u001b[0m \u001b[43m        \u001b[49m\u001b[43moptions\u001b[49m\u001b[38;5;241;43m=\u001b[39;49m\u001b[43mmake_request_options\u001b[49m\u001b[43m(\u001b[49m\n\u001b[0;32m    897\u001b[0m \u001b[43m            \u001b[49m\u001b[43mextra_headers\u001b[49m\u001b[38;5;241;43m=\u001b[39;49m\u001b[43mextra_headers\u001b[49m\u001b[43m,\u001b[49m\u001b[43m \u001b[49m\u001b[43mextra_query\u001b[49m\u001b[38;5;241;43m=\u001b[39;49m\u001b[43mextra_query\u001b[49m\u001b[43m,\u001b[49m\u001b[43m \u001b[49m\u001b[43mextra_body\u001b[49m\u001b[38;5;241;43m=\u001b[39;49m\u001b[43mextra_body\u001b[49m\u001b[43m,\u001b[49m\u001b[43m \u001b[49m\u001b[43mtimeout\u001b[49m\u001b[38;5;241;43m=\u001b[39;49m\u001b[43mtimeout\u001b[49m\n\u001b[0;32m    898\u001b[0m \u001b[43m        \u001b[49m\u001b[43m)\u001b[49m\u001b[43m,\u001b[49m\n\u001b[0;32m    899\u001b[0m \u001b[43m        \u001b[49m\u001b[43mcast_to\u001b[49m\u001b[38;5;241;43m=\u001b[39;49m\u001b[43mChatCompletion\u001b[49m\u001b[43m,\u001b[49m\n\u001b[0;32m    900\u001b[0m \u001b[43m        \u001b[49m\u001b[43mstream\u001b[49m\u001b[38;5;241;43m=\u001b[39;49m\u001b[43mstream\u001b[49m\u001b[43m \u001b[49m\u001b[38;5;129;43;01mor\u001b[39;49;00m\u001b[43m \u001b[49m\u001b[38;5;28;43;01mFalse\u001b[39;49;00m\u001b[43m,\u001b[49m\n\u001b[0;32m    901\u001b[0m \u001b[43m        \u001b[49m\u001b[43mstream_cls\u001b[49m\u001b[38;5;241;43m=\u001b[39;49m\u001b[43mStream\u001b[49m\u001b[43m[\u001b[49m\u001b[43mChatCompletionChunk\u001b[49m\u001b[43m]\u001b[49m\u001b[43m,\u001b[49m\n\u001b[0;32m    902\u001b[0m \u001b[43m    \u001b[49m\u001b[43m)\u001b[49m\n",
      "File \u001b[1;32m~\\anaconda3\\envs\\llms\\Lib\\site-packages\\openai\\_base_client.py:1280\u001b[0m, in \u001b[0;36mSyncAPIClient.post\u001b[1;34m(self, path, cast_to, body, options, files, stream, stream_cls)\u001b[0m\n\u001b[0;32m   1266\u001b[0m \u001b[38;5;28;01mdef\u001b[39;00m\u001b[38;5;250m \u001b[39m\u001b[38;5;21mpost\u001b[39m(\n\u001b[0;32m   1267\u001b[0m     \u001b[38;5;28mself\u001b[39m,\n\u001b[0;32m   1268\u001b[0m     path: \u001b[38;5;28mstr\u001b[39m,\n\u001b[1;32m   (...)\u001b[0m\n\u001b[0;32m   1275\u001b[0m     stream_cls: \u001b[38;5;28mtype\u001b[39m[_StreamT] \u001b[38;5;241m|\u001b[39m \u001b[38;5;28;01mNone\u001b[39;00m \u001b[38;5;241m=\u001b[39m \u001b[38;5;28;01mNone\u001b[39;00m,\n\u001b[0;32m   1276\u001b[0m ) \u001b[38;5;241m-\u001b[39m\u001b[38;5;241m>\u001b[39m ResponseT \u001b[38;5;241m|\u001b[39m _StreamT:\n\u001b[0;32m   1277\u001b[0m     opts \u001b[38;5;241m=\u001b[39m FinalRequestOptions\u001b[38;5;241m.\u001b[39mconstruct(\n\u001b[0;32m   1278\u001b[0m         method\u001b[38;5;241m=\u001b[39m\u001b[38;5;124m\"\u001b[39m\u001b[38;5;124mpost\u001b[39m\u001b[38;5;124m\"\u001b[39m, url\u001b[38;5;241m=\u001b[39mpath, json_data\u001b[38;5;241m=\u001b[39mbody, files\u001b[38;5;241m=\u001b[39mto_httpx_files(files), \u001b[38;5;241m*\u001b[39m\u001b[38;5;241m*\u001b[39moptions\n\u001b[0;32m   1279\u001b[0m     )\n\u001b[1;32m-> 1280\u001b[0m     \u001b[38;5;28;01mreturn\u001b[39;00m cast(ResponseT, \u001b[38;5;28;43mself\u001b[39;49m\u001b[38;5;241;43m.\u001b[39;49m\u001b[43mrequest\u001b[49m\u001b[43m(\u001b[49m\u001b[43mcast_to\u001b[49m\u001b[43m,\u001b[49m\u001b[43m \u001b[49m\u001b[43mopts\u001b[49m\u001b[43m,\u001b[49m\u001b[43m \u001b[49m\u001b[43mstream\u001b[49m\u001b[38;5;241;43m=\u001b[39;49m\u001b[43mstream\u001b[49m\u001b[43m,\u001b[49m\u001b[43m \u001b[49m\u001b[43mstream_cls\u001b[49m\u001b[38;5;241;43m=\u001b[39;49m\u001b[43mstream_cls\u001b[49m\u001b[43m)\u001b[49m)\n",
      "File \u001b[1;32m~\\anaconda3\\envs\\llms\\Lib\\site-packages\\openai\\_base_client.py:957\u001b[0m, in \u001b[0;36mSyncAPIClient.request\u001b[1;34m(self, cast_to, options, remaining_retries, stream, stream_cls)\u001b[0m\n\u001b[0;32m    954\u001b[0m \u001b[38;5;28;01melse\u001b[39;00m:\n\u001b[0;32m    955\u001b[0m     retries_taken \u001b[38;5;241m=\u001b[39m \u001b[38;5;241m0\u001b[39m\n\u001b[1;32m--> 957\u001b[0m \u001b[38;5;28;01mreturn\u001b[39;00m \u001b[38;5;28;43mself\u001b[39;49m\u001b[38;5;241;43m.\u001b[39;49m\u001b[43m_request\u001b[49m\u001b[43m(\u001b[49m\n\u001b[0;32m    958\u001b[0m \u001b[43m    \u001b[49m\u001b[43mcast_to\u001b[49m\u001b[38;5;241;43m=\u001b[39;49m\u001b[43mcast_to\u001b[49m\u001b[43m,\u001b[49m\n\u001b[0;32m    959\u001b[0m \u001b[43m    \u001b[49m\u001b[43moptions\u001b[49m\u001b[38;5;241;43m=\u001b[39;49m\u001b[43moptions\u001b[49m\u001b[43m,\u001b[49m\n\u001b[0;32m    960\u001b[0m \u001b[43m    \u001b[49m\u001b[43mstream\u001b[49m\u001b[38;5;241;43m=\u001b[39;49m\u001b[43mstream\u001b[49m\u001b[43m,\u001b[49m\n\u001b[0;32m    961\u001b[0m \u001b[43m    \u001b[49m\u001b[43mstream_cls\u001b[49m\u001b[38;5;241;43m=\u001b[39;49m\u001b[43mstream_cls\u001b[49m\u001b[43m,\u001b[49m\n\u001b[0;32m    962\u001b[0m \u001b[43m    \u001b[49m\u001b[43mretries_taken\u001b[49m\u001b[38;5;241;43m=\u001b[39;49m\u001b[43mretries_taken\u001b[49m\u001b[43m,\u001b[49m\n\u001b[0;32m    963\u001b[0m \u001b[43m\u001b[49m\u001b[43m)\u001b[49m\n",
      "File \u001b[1;32m~\\anaconda3\\envs\\llms\\Lib\\site-packages\\openai\\_base_client.py:1061\u001b[0m, in \u001b[0;36mSyncAPIClient._request\u001b[1;34m(self, cast_to, options, retries_taken, stream, stream_cls)\u001b[0m\n\u001b[0;32m   1058\u001b[0m         err\u001b[38;5;241m.\u001b[39mresponse\u001b[38;5;241m.\u001b[39mread()\n\u001b[0;32m   1060\u001b[0m     log\u001b[38;5;241m.\u001b[39mdebug(\u001b[38;5;124m\"\u001b[39m\u001b[38;5;124mRe-raising status error\u001b[39m\u001b[38;5;124m\"\u001b[39m)\n\u001b[1;32m-> 1061\u001b[0m     \u001b[38;5;28;01mraise\u001b[39;00m \u001b[38;5;28mself\u001b[39m\u001b[38;5;241m.\u001b[39m_make_status_error_from_response(err\u001b[38;5;241m.\u001b[39mresponse) \u001b[38;5;28;01mfrom\u001b[39;00m\u001b[38;5;250m \u001b[39m\u001b[38;5;28;01mNone\u001b[39;00m\n\u001b[0;32m   1063\u001b[0m \u001b[38;5;28;01mreturn\u001b[39;00m \u001b[38;5;28mself\u001b[39m\u001b[38;5;241m.\u001b[39m_process_response(\n\u001b[0;32m   1064\u001b[0m     cast_to\u001b[38;5;241m=\u001b[39mcast_to,\n\u001b[0;32m   1065\u001b[0m     options\u001b[38;5;241m=\u001b[39moptions,\n\u001b[1;32m   (...)\u001b[0m\n\u001b[0;32m   1069\u001b[0m     retries_taken\u001b[38;5;241m=\u001b[39mretries_taken,\n\u001b[0;32m   1070\u001b[0m )\n",
      "\u001b[1;31mAuthenticationError\u001b[0m: <html>\r\n<head><title>401 Authorization Required</title></head>\r\n<body>\r\n<center><h1>401 Authorization Required</h1></center>\r\n<hr><center>openresty/1.25.3.1</center>\r\n<script>(function(){function c(){var b=a.contentDocument||a.contentWindow.document;if(b){var d=b.createElement('script');d.innerHTML=\"window.__CF$cv$params={r:'90f4791aee57c222',t:'MTczOTExMDU0Mi4wMDAwMDA='};var a=document.createElement('script');a.nonce='';a.src='/cdn-cgi/challenge-platform/scripts/jsd/main.js';document.getElementsByTagName('head')[0].appendChild(a);\";b.getElementsByTagName('head')[0].appendChild(d)}}if(document.body){var a=document.createElement('iframe');a.height=1;a.width=1;a.style.position='absolute';a.style.top=0;a.style.left=0;a.style.border='none';a.style.visibility='hidden';document.body.appendChild(a);if('loading'!==document.readyState)c();else if(window.addEventListener)document.addEventListener('DOMContentLoaded',c);else{var e=document.onreadystatechange||function(){};document.onreadystatechange=function(b){e(b);'loading'!==document.readyState&&(document.onreadystatechange=e,c())}}}})();</script></body>\r\n</html>"
     ]
    }
   ],
   "source": [
    "for i in batch_requests:\n",
    "    response = perplexity_client.chat.completions.create(**i['params'])\n",
    "    results = {'custom_id' : i['custom_id'], 'result': response.to_dict()}\n",
    "    fpath = os.path.join(out_dpath, f'perplexity_result_{i[\"custom_id\"]}.json')\n",
    "    print('.', end='')\n",
    "    with open(fpath, 'w', encoding ='utf8') as json_file:\n",
    "        json.dump(results, json_file, ensure_ascii = False)\n"
   ]
  },
  {
   "cell_type": "code",
   "execution_count": 101,
   "id": "fe65b708-f643-441e-ae01-a390317cbec6",
   "metadata": {},
   "outputs": [],
   "source": [
    "# concat the files"
   ]
  },
  {
   "cell_type": "code",
   "execution_count": 106,
   "id": "7e9c54fb-9051-4b4c-a214-e5546b06433e",
   "metadata": {},
   "outputs": [],
   "source": [
    "# Output file\n",
    "ofpath = os.path.join('batch results', 'perplexity_single_structured_prompt_09022025.jsonl',)\n",
    "\n",
    "with open(ofpath, \"w\", encoding='utf8') as ofh:\n",
    "    for fname in os.listdir(out_dpath):\n",
    "        if fname.endswith('.json'):\n",
    "            fpath = os.path.join(out_dpath, fname)\n",
    "            with open(fpath, \"r\", encoding='utf8') as ifh:\n",
    "                text = ifh.read()\n",
    "                ofh.write(text)\n",
    "                ofh.write('\\n')\n",
    "                \n"
   ]
  },
  {
   "cell_type": "code",
   "execution_count": null,
   "id": "9542178b-ab3f-445c-a4b5-bfdbf20d1bff",
   "metadata": {},
   "outputs": [],
   "source": []
  }
 ],
 "metadata": {
  "kernelspec": {
   "display_name": "Python 3 (ipykernel)",
   "language": "python",
   "name": "python3"
  },
  "language_info": {
   "codemirror_mode": {
    "name": "ipython",
    "version": 3
   },
   "file_extension": ".py",
   "mimetype": "text/x-python",
   "name": "python",
   "nbconvert_exporter": "python",
   "pygments_lexer": "ipython3",
   "version": "3.11.11"
  }
 },
 "nbformat": 4,
 "nbformat_minor": 5
}
